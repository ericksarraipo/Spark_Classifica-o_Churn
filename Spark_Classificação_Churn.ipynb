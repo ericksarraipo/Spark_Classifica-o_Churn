{
  "cells": [
    {
      "cell_type": "markdown",
      "metadata": {
        "id": "view-in-github",
        "colab_type": "text"
      },
      "source": [
        "<a href=\"https://colab.research.google.com/github/ericksarraipo/Spark_Classifica-o_Churn/blob/main/Spark_Classifica%C3%A7%C3%A3o_Churn.ipynb\" target=\"_parent\"><img src=\"https://colab.research.google.com/assets/colab-badge.svg\" alt=\"Open In Colab\"/></a>"
      ]
    },
    {
      "cell_type": "markdown",
      "source": [
        "# **Aula 1 - Preparando os Dados**"
      ],
      "metadata": {
        "id": "BwhP2rhUGI_k"
      }
    },
    {
      "cell_type": "markdown",
      "source": [
        "## **1.1 Apresentação**"
      ],
      "metadata": {
        "id": "2GbwQeCXGaaV"
      }
    },
    {
      "cell_type": "markdown",
      "source": [
        "## **1.2 Preparando o Ambiente**\n",
        "\n",
        "### PySpark\n",
        "\n",
        "PySpark é uma interface para Apache Spark em Python. Ele não apenas permite que você escreva aplicativos Spark usando APIs Python, mas também fornece o *shell* PySpark para analisar interativamente seus dados em um ambiente distribuído. O PySpark oferece suporte à maioria dos recursos do Spark, como Spark SQL, DataFrame, Streaming, MLlib (Machine Learning) e Spark Core.\n",
        "\n",
        "<center><img src=\"https://caelum-online-public.s3.amazonaws.com/2273-introducao-spark/01/img-001.png\"/></center>\n",
        "\n",
        "#### **Spark SQL e DataFrame**\n",
        "\n",
        "Spark SQL é um módulo Spark para processamento de dados estruturados. Ele fornece uma abstração de programação chamada DataFrame e também pode atuar como mecanismo de consulta SQL distribuído.\n",
        "\n",
        "#### **Spark Streaming**\n",
        "\n",
        "Executando em cima do Spark, o recurso de *streaming* no Apache Spark possibilita o uso de poderosas aplicações interativas e analíticas em *streaming* e dados históricos, enquanto herda a facilidade de uso do Spark e as características de tolerância a falhas.\n",
        "\n",
        "#### **Spark MLlib**\n",
        "\n",
        "Construído sobre o Spark, MLlib é uma biblioteca de aprendizado de máquina escalonável que fornece um conjunto uniforme de APIs de alto nível que ajudam os usuários a criar e ajustar *pipelines* de aprendizado de máquina práticos.\n",
        "\n",
        "#### **Spark Core**\n",
        "\n",
        "Spark Core é o mecanismo de execução geral subjacente para a plataforma Spark sobre o qual todas as outras funcionalidades são construídas. Ele fornece um RDD (*Resilient Distributed Dataset*) e recursos de computação na memória.\n",
        "\n",
        "<font size=2>**Fonte:** [PySpark](https://spark.apache.org/docs/latest/api/python/index.html)</font>"
      ],
      "metadata": {
        "id": "BAWE5PSLMmSX"
      }
    },
    {
      "cell_type": "code",
      "source": [
        "!pip install pyspark"
      ],
      "metadata": {
        "colab": {
          "base_uri": "https://localhost:8080/"
        },
        "id": "4Gs-5LKuvWmE",
        "outputId": "f65e7c97-3b6f-451c-95f8-65ba68495e07"
      },
      "execution_count": null,
      "outputs": [
        {
          "output_type": "stream",
          "name": "stdout",
          "text": [
            "Collecting pyspark\n",
            "  Downloading pyspark-3.4.1.tar.gz (310.8 MB)\n",
            "\u001b[2K     \u001b[90m━━━━━━━━━━━━━━━━━━━━━━━━━━━━━━━━━━━━━━━\u001b[0m \u001b[32m310.8/310.8 MB\u001b[0m \u001b[31m4.4 MB/s\u001b[0m eta \u001b[36m0:00:00\u001b[0m\n",
            "\u001b[?25h  Preparing metadata (setup.py) ... \u001b[?25l\u001b[?25hdone\n",
            "Requirement already satisfied: py4j==0.10.9.7 in /usr/local/lib/python3.10/dist-packages (from pyspark) (0.10.9.7)\n",
            "Building wheels for collected packages: pyspark\n",
            "  Building wheel for pyspark (setup.py) ... \u001b[?25l\u001b[?25hdone\n",
            "  Created wheel for pyspark: filename=pyspark-3.4.1-py2.py3-none-any.whl size=311285387 sha256=67a5c5f02a6709a4703edba3b3ab4a4a2462d7a06ae5de5203b842430de76cd9\n",
            "  Stored in directory: /root/.cache/pip/wheels/0d/77/a3/ff2f74cc9ab41f8f594dabf0579c2a7c6de920d584206e0834\n",
            "Successfully built pyspark\n",
            "Installing collected packages: pyspark\n",
            "Successfully installed pyspark-3.4.1\n"
          ]
        }
      ]
    },
    {
      "cell_type": "markdown",
      "source": [
        "### SparkSession\n",
        "\n",
        "O ponto de entrada para programar o Spark com a API Dataset e DataFrame.\n",
        "\n",
        "Uma SparkSession pode ser utilizada para criar DataFrames, registrar DataFrames como tabelas, executar consultas SQL em tabelas, armazenar em cache e ler arquivos parquet. Para criar uma SparkSession, use o seguinte padrão de construtor:\n",
        "\n",
        "<font size=2>**Fonte:** [SparkSession](https://spark.apache.org/docs/latest/api/python/)</font>"
      ],
      "metadata": {
        "id": "43dP4NVZOEI2"
      }
    },
    {
      "cell_type": "code",
      "source": [
        "from pyspark.sql import SparkSession"
      ],
      "metadata": {
        "id": "1_WixBVIvvB-"
      },
      "execution_count": null,
      "outputs": []
    },
    {
      "cell_type": "code",
      "source": [
        "spark = SparkSession.builder.master('local[*]').appName(\"Classificação com Spark\").getOrCreate()\n",
        "spark"
      ],
      "metadata": {
        "colab": {
          "base_uri": "https://localhost:8080/",
          "height": 221
        },
        "id": "H02jOAtLOpQY",
        "outputId": "8b206f18-0ea8-41b4-c677-41e0a0ea2533"
      },
      "execution_count": null,
      "outputs": [
        {
          "output_type": "execute_result",
          "data": {
            "text/plain": [
              "<pyspark.sql.session.SparkSession at 0x7891232dd090>"
            ],
            "text/html": [
              "\n",
              "            <div>\n",
              "                <p><b>SparkSession - in-memory</b></p>\n",
              "                \n",
              "        <div>\n",
              "            <p><b>SparkContext</b></p>\n",
              "\n",
              "            <p><a href=\"http://06dbf195a358:4040\">Spark UI</a></p>\n",
              "\n",
              "            <dl>\n",
              "              <dt>Version</dt>\n",
              "                <dd><code>v3.4.1</code></dd>\n",
              "              <dt>Master</dt>\n",
              "                <dd><code>local[*]</code></dd>\n",
              "              <dt>AppName</dt>\n",
              "                <dd><code>Classificação com Spark</code></dd>\n",
              "            </dl>\n",
              "        </div>\n",
              "        \n",
              "            </div>\n",
              "        "
            ]
          },
          "metadata": {},
          "execution_count": 3
        }
      ]
    },
    {
      "cell_type": "markdown",
      "source": [
        "## **1.3 Carregamento dos Dados**"
      ],
      "metadata": {
        "id": "BOQSXCsB-XJ4"
      }
    },
    {
      "cell_type": "code",
      "source": [
        "#Acessando os arquivos do drive\n",
        "from google.colab import drive\n",
        "drive.mount('/content/drive')\n"
      ],
      "metadata": {
        "colab": {
          "base_uri": "https://localhost:8080/"
        },
        "id": "bRGSv7uXMlHA",
        "outputId": "06300476-9131-45d5-f6ab-9b65575881b5"
      },
      "execution_count": null,
      "outputs": [
        {
          "output_type": "stream",
          "name": "stdout",
          "text": [
            "Mounted at /content/drive\n"
          ]
        }
      ]
    },
    {
      "cell_type": "code",
      "source": [
        "#parâmetro importante é o separador, sep=, que indica qual caractere o nosso arquivo usa para separar os dados. No nosso caso é a vírgula, então a colocamos entre aspas simples ','.\n",
        "#Precisamos, também, indicar se o nosso CSV conta com um cabeçalho (header=) que informa o que cada coluna representa. No nosso caso, sim. Então esse parâmetro terá o valor True.\n",
        "#Por fim, o último parâmetro interessante é o inferSchema, que interpretará o esquema dos nossos dados a partir do arquivo CSV, assumindo o tipo de cada variável. O valor desse parâmetro também será True.#\n",
        "\n",
        "dados = spark.read.csv(\n",
        "    '/content/drive/MyDrive/Alura/dados_clientes.csv', sep=',', header=True, inferSchema=True\n",
        ")"
      ],
      "metadata": {
        "id": "6TqF3AaFMqrc"
      },
      "execution_count": null,
      "outputs": []
    },
    {
      "cell_type": "code",
      "source": [
        "dados"
      ],
      "metadata": {
        "id": "bItkwybT-BOG",
        "colab": {
          "base_uri": "https://localhost:8080/"
        },
        "outputId": "d31475a4-ed67-41df-9ef8-9927d3cfb7e5"
      },
      "execution_count": null,
      "outputs": [
        {
          "output_type": "execute_result",
          "data": {
            "text/plain": [
              "DataFrame[id: int, Churn: string, Mais65anos: int, Conjuge: string, Dependentes: string, MesesDeContrato: int, TelefoneFixo: string, MaisDeUmaLinhaTelefonica: string, Internet: string, SegurancaOnline: string, BackupOnline: string, SeguroDispositivo: string, SuporteTecnico: string, TVaCabo: string, StreamingFilmes: string, TipoContrato: string, ContaCorreio: string, MetodoPagamento: string, MesesCobrados: double]"
            ]
          },
          "metadata": {},
          "execution_count": 6
        }
      ]
    },
    {
      "cell_type": "code",
      "source": [
        "dados.show(truncate=False) #dados vão mostrar visualmente mais interessante"
      ],
      "metadata": {
        "id": "WMx7nLWW-BIV",
        "colab": {
          "base_uri": "https://localhost:8080/"
        },
        "outputId": "1dbde764-3b70-4a69-d3bb-3fafb47b2b5f"
      },
      "execution_count": null,
      "outputs": [
        {
          "output_type": "stream",
          "name": "stdout",
          "text": [
            "+---+-----+----------+-------+-----------+---------------+------------+------------------------+-----------+------------------+------------------+------------------+------------------+------------------+------------------+------------+------------+----------------+-------------+\n",
            "|id |Churn|Mais65anos|Conjuge|Dependentes|MesesDeContrato|TelefoneFixo|MaisDeUmaLinhaTelefonica|Internet   |SegurancaOnline   |BackupOnline      |SeguroDispositivo |SuporteTecnico    |TVaCabo           |StreamingFilmes   |TipoContrato|ContaCorreio|MetodoPagamento |MesesCobrados|\n",
            "+---+-----+----------+-------+-----------+---------------+------------+------------------------+-----------+------------------+------------------+------------------+------------------+------------------+------------------+------------+------------+----------------+-------------+\n",
            "|0  |Nao  |0         |Sim    |Nao        |1              |Nao         |SemServicoTelefonico    |DSL        |Nao               |Sim               |Nao               |Nao               |Nao               |Nao               |Mensalmente |Sim         |BoletoEletronico|29.85        |\n",
            "|1  |Nao  |0         |Nao    |Nao        |34             |Sim         |Nao                     |DSL        |Sim               |Nao               |Sim               |Nao               |Nao               |Nao               |UmAno       |Nao         |Boleto          |56.95        |\n",
            "|2  |Sim  |0         |Nao    |Nao        |2              |Sim         |Nao                     |DSL        |Sim               |Sim               |Nao               |Nao               |Nao               |Nao               |Mensalmente |Sim         |Boleto          |53.85        |\n",
            "|3  |Nao  |0         |Nao    |Nao        |45             |Nao         |SemServicoTelefonico    |DSL        |Sim               |Nao               |Sim               |Sim               |Nao               |Nao               |UmAno       |Nao         |DebitoEmConta   |42.3         |\n",
            "|4  |Sim  |0         |Nao    |Nao        |2              |Sim         |Nao                     |FibraOptica|Nao               |Nao               |Nao               |Nao               |Nao               |Nao               |Mensalmente |Sim         |BoletoEletronico|70.7         |\n",
            "|5  |Sim  |0         |Nao    |Nao        |8              |Sim         |Sim                     |FibraOptica|Nao               |Nao               |Sim               |Nao               |Sim               |Sim               |Mensalmente |Sim         |BoletoEletronico|99.65        |\n",
            "|6  |Nao  |0         |Nao    |Sim        |22             |Sim         |Sim                     |FibraOptica|Nao               |Sim               |Nao               |Nao               |Sim               |Nao               |Mensalmente |Sim         |CartaoCredito   |89.1         |\n",
            "|7  |Nao  |0         |Nao    |Nao        |10             |Nao         |SemServicoTelefonico    |DSL        |Sim               |Nao               |Nao               |Nao               |Nao               |Nao               |Mensalmente |Nao         |Boleto          |29.75        |\n",
            "|8  |Sim  |0         |Sim    |Nao        |28             |Sim         |Sim                     |FibraOptica|Nao               |Nao               |Sim               |Sim               |Sim               |Sim               |Mensalmente |Sim         |BoletoEletronico|104.8        |\n",
            "|9  |Nao  |0         |Nao    |Sim        |62             |Sim         |Nao                     |DSL        |Sim               |Sim               |Nao               |Nao               |Nao               |Nao               |UmAno       |Nao         |DebitoEmConta   |56.15        |\n",
            "|10 |Nao  |0         |Sim    |Sim        |13             |Sim         |Nao                     |DSL        |Sim               |Nao               |Nao               |Nao               |Nao               |Nao               |Mensalmente |Sim         |Boleto          |49.95        |\n",
            "|11 |Nao  |0         |Nao    |Nao        |16             |Sim         |Nao                     |Nao        |SemServicoInternet|SemServicoInternet|SemServicoInternet|SemServicoInternet|SemServicoInternet|SemServicoInternet|DoisAnos    |Nao         |CartaoCredito   |18.95        |\n",
            "|12 |Nao  |0         |Sim    |Nao        |58             |Sim         |Sim                     |FibraOptica|Nao               |Nao               |Sim               |Nao               |Sim               |Sim               |UmAno       |Nao         |CartaoCredito   |100.35       |\n",
            "|13 |Sim  |0         |Nao    |Nao        |49             |Sim         |Sim                     |FibraOptica|Nao               |Sim               |Sim               |Nao               |Sim               |Sim               |Mensalmente |Sim         |DebitoEmConta   |103.7        |\n",
            "|14 |Nao  |0         |Nao    |Nao        |25             |Sim         |Nao                     |FibraOptica|Sim               |Nao               |Sim               |Sim               |Sim               |Sim               |Mensalmente |Sim         |BoletoEletronico|105.5        |\n",
            "|15 |Nao  |0         |Sim    |Sim        |69             |Sim         |Sim                     |FibraOptica|Sim               |Sim               |Sim               |Sim               |Sim               |Sim               |DoisAnos    |Nao         |CartaoCredito   |113.25       |\n",
            "|16 |Nao  |0         |Nao    |Nao        |52             |Sim         |Nao                     |Nao        |SemServicoInternet|SemServicoInternet|SemServicoInternet|SemServicoInternet|SemServicoInternet|SemServicoInternet|UmAno       |Nao         |Boleto          |20.65        |\n",
            "|17 |Nao  |0         |Nao    |Sim        |71             |Sim         |Sim                     |FibraOptica|Sim               |Nao               |Sim               |Nao               |Sim               |Sim               |DoisAnos    |Nao         |DebitoEmConta   |106.7        |\n",
            "|18 |Sim  |0         |Sim    |Sim        |10             |Sim         |Nao                     |DSL        |Nao               |Nao               |Sim               |Sim               |Nao               |Nao               |Mensalmente |Nao         |CartaoCredito   |55.2         |\n",
            "|19 |Nao  |0         |Nao    |Nao        |21             |Sim         |Nao                     |FibraOptica|Nao               |Sim               |Sim               |Nao               |Nao               |Sim               |Mensalmente |Sim         |BoletoEletronico|90.05        |\n",
            "+---+-----+----------+-------+-----------+---------------+------------+------------------------+-----------+------------------+------------------+------------------+------------------+------------------+------------------+------------+------------+----------------+-------------+\n",
            "only showing top 20 rows\n",
            "\n"
          ]
        }
      ]
    },
    {
      "cell_type": "code",
      "source": [
        "dados.count()"
      ],
      "metadata": {
        "id": "DyXF17Oo-BCw",
        "colab": {
          "base_uri": "https://localhost:8080/"
        },
        "outputId": "968511ea-548e-4a68-c40b-2927ea026d16"
      },
      "execution_count": null,
      "outputs": [
        {
          "output_type": "execute_result",
          "data": {
            "text/plain": [
              "10348"
            ]
          },
          "metadata": {},
          "execution_count": 8
        }
      ]
    },
    {
      "cell_type": "code",
      "source": [
        "dados.select('Churn').groupBy('Churn').count().show()"
      ],
      "metadata": {
        "id": "wOXJOUgGpi9z",
        "colab": {
          "base_uri": "https://localhost:8080/"
        },
        "outputId": "39e1abc1-d675-4d6c-c030-947a7ce4a531"
      },
      "execution_count": null,
      "outputs": [
        {
          "output_type": "stream",
          "name": "stdout",
          "text": [
            "+-----+-----+\n",
            "|Churn|count|\n",
            "+-----+-----+\n",
            "|  Sim| 5174|\n",
            "|  Nao| 5174|\n",
            "+-----+-----+\n",
            "\n"
          ]
        }
      ]
    },
    {
      "cell_type": "code",
      "source": [
        "dados.printSchema()"
      ],
      "metadata": {
        "id": "K18E1wBo9A8P",
        "colab": {
          "base_uri": "https://localhost:8080/"
        },
        "outputId": "846015b6-3a8f-4a1a-f03c-3e46d6bbbff8"
      },
      "execution_count": null,
      "outputs": [
        {
          "output_type": "stream",
          "name": "stdout",
          "text": [
            "root\n",
            " |-- id: integer (nullable = true)\n",
            " |-- Churn: string (nullable = true)\n",
            " |-- Mais65anos: integer (nullable = true)\n",
            " |-- Conjuge: string (nullable = true)\n",
            " |-- Dependentes: string (nullable = true)\n",
            " |-- MesesDeContrato: integer (nullable = true)\n",
            " |-- TelefoneFixo: string (nullable = true)\n",
            " |-- MaisDeUmaLinhaTelefonica: string (nullable = true)\n",
            " |-- Internet: string (nullable = true)\n",
            " |-- SegurancaOnline: string (nullable = true)\n",
            " |-- BackupOnline: string (nullable = true)\n",
            " |-- SeguroDispositivo: string (nullable = true)\n",
            " |-- SuporteTecnico: string (nullable = true)\n",
            " |-- TVaCabo: string (nullable = true)\n",
            " |-- StreamingFilmes: string (nullable = true)\n",
            " |-- TipoContrato: string (nullable = true)\n",
            " |-- ContaCorreio: string (nullable = true)\n",
            " |-- MetodoPagamento: string (nullable = true)\n",
            " |-- MesesCobrados: double (nullable = true)\n",
            "\n"
          ]
        }
      ]
    },
    {
      "cell_type": "markdown",
      "source": [
        "## **1.4 Transformando os Dados**\n",
        "\n",
        "<font size=2>**Fonte:** [Functions](https://spark.apache.org/docs/latest/api/python/reference/pyspark.sql.html#functions)</font>"
      ],
      "metadata": {
        "id": "blFAMaSBVV2u"
      }
    },
    {
      "cell_type": "code",
      "source": [
        "colunasBinarias = [\n",
        "    'Churn',\n",
        "    'Conjuge',\n",
        "    'Dependentes',\n",
        "    'TelefoneFixo',\n",
        "    'MaisDeUmaLinhaTelefonica',\n",
        "    'SegurancaOnline',\n",
        "    'BackupOnline',\n",
        "    'SeguroDispositivo',\n",
        "    'SuporteTecnico',\n",
        "    'TVaCabo',\n",
        "    'StreamingFilmes',\n",
        "    'ContaCorreio'\n",
        "]"
      ],
      "metadata": {
        "id": "mTav14ezr0Uf"
      },
      "execution_count": null,
      "outputs": []
    },
    {
      "cell_type": "code",
      "source": [
        "from pyspark.sql import functions as f"
      ],
      "metadata": {
        "id": "DokzQv2rsnbC"
      },
      "execution_count": null,
      "outputs": []
    },
    {
      "cell_type": "code",
      "source": [
        "todasColunas = [f.when(f.col(c)=='Sim', 1).otherwise(0).alias(c) for c in colunasBinarias]\n",
        "for coluna in reversed(dados.columns):\n",
        "  if coluna not in colunasBinarias:\n",
        "    todasColunas.insert(0, coluna)\n",
        "todasColunas"
      ],
      "metadata": {
        "id": "sqW_vtly9rw0",
        "colab": {
          "base_uri": "https://localhost:8080/"
        },
        "outputId": "5d1d3341-e809-475f-d446-02b33d1bb5bc"
      },
      "execution_count": null,
      "outputs": [
        {
          "output_type": "execute_result",
          "data": {
            "text/plain": [
              "['id',\n",
              " 'Mais65anos',\n",
              " 'MesesDeContrato',\n",
              " 'Internet',\n",
              " 'TipoContrato',\n",
              " 'MetodoPagamento',\n",
              " 'MesesCobrados',\n",
              " Column<'CASE WHEN (Churn = Sim) THEN 1 ELSE 0 END AS Churn'>,\n",
              " Column<'CASE WHEN (Conjuge = Sim) THEN 1 ELSE 0 END AS Conjuge'>,\n",
              " Column<'CASE WHEN (Dependentes = Sim) THEN 1 ELSE 0 END AS Dependentes'>,\n",
              " Column<'CASE WHEN (TelefoneFixo = Sim) THEN 1 ELSE 0 END AS TelefoneFixo'>,\n",
              " Column<'CASE WHEN (MaisDeUmaLinhaTelefonica = Sim) THEN 1 ELSE 0 END AS MaisDeUmaLinhaTelefonica'>,\n",
              " Column<'CASE WHEN (SegurancaOnline = Sim) THEN 1 ELSE 0 END AS SegurancaOnline'>,\n",
              " Column<'CASE WHEN (BackupOnline = Sim) THEN 1 ELSE 0 END AS BackupOnline'>,\n",
              " Column<'CASE WHEN (SeguroDispositivo = Sim) THEN 1 ELSE 0 END AS SeguroDispositivo'>,\n",
              " Column<'CASE WHEN (SuporteTecnico = Sim) THEN 1 ELSE 0 END AS SuporteTecnico'>,\n",
              " Column<'CASE WHEN (TVaCabo = Sim) THEN 1 ELSE 0 END AS TVaCabo'>,\n",
              " Column<'CASE WHEN (StreamingFilmes = Sim) THEN 1 ELSE 0 END AS StreamingFilmes'>,\n",
              " Column<'CASE WHEN (ContaCorreio = Sim) THEN 1 ELSE 0 END AS ContaCorreio'>]"
            ]
          },
          "metadata": {},
          "execution_count": 13
        }
      ]
    },
    {
      "cell_type": "code",
      "source": [
        "dados.select(todasColunas).show()"
      ],
      "metadata": {
        "id": "lhAyVrcFmKYT",
        "colab": {
          "base_uri": "https://localhost:8080/"
        },
        "outputId": "f3286a54-65f5-4ba8-d480-e3387b79e81a"
      },
      "execution_count": null,
      "outputs": [
        {
          "output_type": "stream",
          "name": "stdout",
          "text": [
            "+---+----------+---------------+-----------+------------+----------------+-------------+-----+-------+-----------+------------+------------------------+---------------+------------+-----------------+--------------+-------+---------------+------------+\n",
            "| id|Mais65anos|MesesDeContrato|   Internet|TipoContrato| MetodoPagamento|MesesCobrados|Churn|Conjuge|Dependentes|TelefoneFixo|MaisDeUmaLinhaTelefonica|SegurancaOnline|BackupOnline|SeguroDispositivo|SuporteTecnico|TVaCabo|StreamingFilmes|ContaCorreio|\n",
            "+---+----------+---------------+-----------+------------+----------------+-------------+-----+-------+-----------+------------+------------------------+---------------+------------+-----------------+--------------+-------+---------------+------------+\n",
            "|  0|         0|              1|        DSL| Mensalmente|BoletoEletronico|        29.85|    0|      1|          0|           0|                       0|              0|           1|                0|             0|      0|              0|           1|\n",
            "|  1|         0|             34|        DSL|       UmAno|          Boleto|        56.95|    0|      0|          0|           1|                       0|              1|           0|                1|             0|      0|              0|           0|\n",
            "|  2|         0|              2|        DSL| Mensalmente|          Boleto|        53.85|    1|      0|          0|           1|                       0|              1|           1|                0|             0|      0|              0|           1|\n",
            "|  3|         0|             45|        DSL|       UmAno|   DebitoEmConta|         42.3|    0|      0|          0|           0|                       0|              1|           0|                1|             1|      0|              0|           0|\n",
            "|  4|         0|              2|FibraOptica| Mensalmente|BoletoEletronico|         70.7|    1|      0|          0|           1|                       0|              0|           0|                0|             0|      0|              0|           1|\n",
            "|  5|         0|              8|FibraOptica| Mensalmente|BoletoEletronico|        99.65|    1|      0|          0|           1|                       1|              0|           0|                1|             0|      1|              1|           1|\n",
            "|  6|         0|             22|FibraOptica| Mensalmente|   CartaoCredito|         89.1|    0|      0|          1|           1|                       1|              0|           1|                0|             0|      1|              0|           1|\n",
            "|  7|         0|             10|        DSL| Mensalmente|          Boleto|        29.75|    0|      0|          0|           0|                       0|              1|           0|                0|             0|      0|              0|           0|\n",
            "|  8|         0|             28|FibraOptica| Mensalmente|BoletoEletronico|        104.8|    1|      1|          0|           1|                       1|              0|           0|                1|             1|      1|              1|           1|\n",
            "|  9|         0|             62|        DSL|       UmAno|   DebitoEmConta|        56.15|    0|      0|          1|           1|                       0|              1|           1|                0|             0|      0|              0|           0|\n",
            "| 10|         0|             13|        DSL| Mensalmente|          Boleto|        49.95|    0|      1|          1|           1|                       0|              1|           0|                0|             0|      0|              0|           1|\n",
            "| 11|         0|             16|        Nao|    DoisAnos|   CartaoCredito|        18.95|    0|      0|          0|           1|                       0|              0|           0|                0|             0|      0|              0|           0|\n",
            "| 12|         0|             58|FibraOptica|       UmAno|   CartaoCredito|       100.35|    0|      1|          0|           1|                       1|              0|           0|                1|             0|      1|              1|           0|\n",
            "| 13|         0|             49|FibraOptica| Mensalmente|   DebitoEmConta|        103.7|    1|      0|          0|           1|                       1|              0|           1|                1|             0|      1|              1|           1|\n",
            "| 14|         0|             25|FibraOptica| Mensalmente|BoletoEletronico|        105.5|    0|      0|          0|           1|                       0|              1|           0|                1|             1|      1|              1|           1|\n",
            "| 15|         0|             69|FibraOptica|    DoisAnos|   CartaoCredito|       113.25|    0|      1|          1|           1|                       1|              1|           1|                1|             1|      1|              1|           0|\n",
            "| 16|         0|             52|        Nao|       UmAno|          Boleto|        20.65|    0|      0|          0|           1|                       0|              0|           0|                0|             0|      0|              0|           0|\n",
            "| 17|         0|             71|FibraOptica|    DoisAnos|   DebitoEmConta|        106.7|    0|      0|          1|           1|                       1|              1|           0|                1|             0|      1|              1|           0|\n",
            "| 18|         0|             10|        DSL| Mensalmente|   CartaoCredito|         55.2|    1|      1|          1|           1|                       0|              0|           0|                1|             1|      0|              0|           0|\n",
            "| 19|         0|             21|FibraOptica| Mensalmente|BoletoEletronico|        90.05|    0|      0|          0|           1|                       0|              0|           1|                1|             0|      0|              1|           1|\n",
            "+---+----------+---------------+-----------+------------+----------------+-------------+-----+-------+-----------+------------+------------------------+---------------+------------+-----------------+--------------+-------+---------------+------------+\n",
            "only showing top 20 rows\n",
            "\n"
          ]
        }
      ]
    },
    {
      "cell_type": "code",
      "source": [
        "dataset = dados.select(todasColunas)"
      ],
      "metadata": {
        "id": "Mhp-2cRy70mI"
      },
      "execution_count": null,
      "outputs": []
    },
    {
      "cell_type": "code",
      "source": [
        "dataset.show()"
      ],
      "metadata": {
        "id": "TEpK0IXUs2BF",
        "colab": {
          "base_uri": "https://localhost:8080/"
        },
        "outputId": "a5563dcf-beb2-4283-bb16-95436d735e3e"
      },
      "execution_count": null,
      "outputs": [
        {
          "output_type": "stream",
          "name": "stdout",
          "text": [
            "+---+----------+---------------+-----------+------------+----------------+-------------+-----+-------+-----------+------------+------------------------+---------------+------------+-----------------+--------------+-------+---------------+------------+\n",
            "| id|Mais65anos|MesesDeContrato|   Internet|TipoContrato| MetodoPagamento|MesesCobrados|Churn|Conjuge|Dependentes|TelefoneFixo|MaisDeUmaLinhaTelefonica|SegurancaOnline|BackupOnline|SeguroDispositivo|SuporteTecnico|TVaCabo|StreamingFilmes|ContaCorreio|\n",
            "+---+----------+---------------+-----------+------------+----------------+-------------+-----+-------+-----------+------------+------------------------+---------------+------------+-----------------+--------------+-------+---------------+------------+\n",
            "|  0|         0|              1|        DSL| Mensalmente|BoletoEletronico|        29.85|    0|      1|          0|           0|                       0|              0|           1|                0|             0|      0|              0|           1|\n",
            "|  1|         0|             34|        DSL|       UmAno|          Boleto|        56.95|    0|      0|          0|           1|                       0|              1|           0|                1|             0|      0|              0|           0|\n",
            "|  2|         0|              2|        DSL| Mensalmente|          Boleto|        53.85|    1|      0|          0|           1|                       0|              1|           1|                0|             0|      0|              0|           1|\n",
            "|  3|         0|             45|        DSL|       UmAno|   DebitoEmConta|         42.3|    0|      0|          0|           0|                       0|              1|           0|                1|             1|      0|              0|           0|\n",
            "|  4|         0|              2|FibraOptica| Mensalmente|BoletoEletronico|         70.7|    1|      0|          0|           1|                       0|              0|           0|                0|             0|      0|              0|           1|\n",
            "|  5|         0|              8|FibraOptica| Mensalmente|BoletoEletronico|        99.65|    1|      0|          0|           1|                       1|              0|           0|                1|             0|      1|              1|           1|\n",
            "|  6|         0|             22|FibraOptica| Mensalmente|   CartaoCredito|         89.1|    0|      0|          1|           1|                       1|              0|           1|                0|             0|      1|              0|           1|\n",
            "|  7|         0|             10|        DSL| Mensalmente|          Boleto|        29.75|    0|      0|          0|           0|                       0|              1|           0|                0|             0|      0|              0|           0|\n",
            "|  8|         0|             28|FibraOptica| Mensalmente|BoletoEletronico|        104.8|    1|      1|          0|           1|                       1|              0|           0|                1|             1|      1|              1|           1|\n",
            "|  9|         0|             62|        DSL|       UmAno|   DebitoEmConta|        56.15|    0|      0|          1|           1|                       0|              1|           1|                0|             0|      0|              0|           0|\n",
            "| 10|         0|             13|        DSL| Mensalmente|          Boleto|        49.95|    0|      1|          1|           1|                       0|              1|           0|                0|             0|      0|              0|           1|\n",
            "| 11|         0|             16|        Nao|    DoisAnos|   CartaoCredito|        18.95|    0|      0|          0|           1|                       0|              0|           0|                0|             0|      0|              0|           0|\n",
            "| 12|         0|             58|FibraOptica|       UmAno|   CartaoCredito|       100.35|    0|      1|          0|           1|                       1|              0|           0|                1|             0|      1|              1|           0|\n",
            "| 13|         0|             49|FibraOptica| Mensalmente|   DebitoEmConta|        103.7|    1|      0|          0|           1|                       1|              0|           1|                1|             0|      1|              1|           1|\n",
            "| 14|         0|             25|FibraOptica| Mensalmente|BoletoEletronico|        105.5|    0|      0|          0|           1|                       0|              1|           0|                1|             1|      1|              1|           1|\n",
            "| 15|         0|             69|FibraOptica|    DoisAnos|   CartaoCredito|       113.25|    0|      1|          1|           1|                       1|              1|           1|                1|             1|      1|              1|           0|\n",
            "| 16|         0|             52|        Nao|       UmAno|          Boleto|        20.65|    0|      0|          0|           1|                       0|              0|           0|                0|             0|      0|              0|           0|\n",
            "| 17|         0|             71|FibraOptica|    DoisAnos|   DebitoEmConta|        106.7|    0|      0|          1|           1|                       1|              1|           0|                1|             0|      1|              1|           0|\n",
            "| 18|         0|             10|        DSL| Mensalmente|   CartaoCredito|         55.2|    1|      1|          1|           1|                       0|              0|           0|                1|             1|      0|              0|           0|\n",
            "| 19|         0|             21|FibraOptica| Mensalmente|BoletoEletronico|        90.05|    0|      0|          0|           1|                       0|              0|           1|                1|             0|      0|              1|           1|\n",
            "+---+----------+---------------+-----------+------------+----------------+-------------+-----+-------+-----------+------------+------------------------+---------------+------------+-----------------+--------------+-------+---------------+------------+\n",
            "only showing top 20 rows\n",
            "\n"
          ]
        }
      ]
    },
    {
      "cell_type": "markdown",
      "source": [
        "## **1.5 Criando *Dummies***"
      ],
      "metadata": {
        "id": "FLn2a7ym7MLp"
      }
    },
    {
      "cell_type": "code",
      "source": [
        "dataset.printSchema()"
      ],
      "metadata": {
        "id": "E_Hs2oXj9-pq",
        "colab": {
          "base_uri": "https://localhost:8080/"
        },
        "outputId": "6270a688-663d-48e0-b515-cd14697b2ba1"
      },
      "execution_count": null,
      "outputs": [
        {
          "output_type": "stream",
          "name": "stdout",
          "text": [
            "root\n",
            " |-- id: integer (nullable = true)\n",
            " |-- Mais65anos: integer (nullable = true)\n",
            " |-- MesesDeContrato: integer (nullable = true)\n",
            " |-- Internet: string (nullable = true)\n",
            " |-- TipoContrato: string (nullable = true)\n",
            " |-- MetodoPagamento: string (nullable = true)\n",
            " |-- MesesCobrados: double (nullable = true)\n",
            " |-- Churn: integer (nullable = false)\n",
            " |-- Conjuge: integer (nullable = false)\n",
            " |-- Dependentes: integer (nullable = false)\n",
            " |-- TelefoneFixo: integer (nullable = false)\n",
            " |-- MaisDeUmaLinhaTelefonica: integer (nullable = false)\n",
            " |-- SegurancaOnline: integer (nullable = false)\n",
            " |-- BackupOnline: integer (nullable = false)\n",
            " |-- SeguroDispositivo: integer (nullable = false)\n",
            " |-- SuporteTecnico: integer (nullable = false)\n",
            " |-- TVaCabo: integer (nullable = false)\n",
            " |-- StreamingFilmes: integer (nullable = false)\n",
            " |-- ContaCorreio: integer (nullable = false)\n",
            "\n"
          ]
        }
      ]
    },
    {
      "cell_type": "code",
      "source": [
        "#para tratar colunas strings é necessário transforma-las em dummies\n",
        "dataset.select(['Internet', 'TipoContrato', 'MetodoPagamento']).show()"
      ],
      "metadata": {
        "id": "DFJx294nMCit",
        "colab": {
          "base_uri": "https://localhost:8080/"
        },
        "outputId": "6a3a1d57-f648-4f13-90d5-35641a76021a"
      },
      "execution_count": null,
      "outputs": [
        {
          "output_type": "stream",
          "name": "stdout",
          "text": [
            "+-----------+------------+----------------+\n",
            "|   Internet|TipoContrato| MetodoPagamento|\n",
            "+-----------+------------+----------------+\n",
            "|        DSL| Mensalmente|BoletoEletronico|\n",
            "|        DSL|       UmAno|          Boleto|\n",
            "|        DSL| Mensalmente|          Boleto|\n",
            "|        DSL|       UmAno|   DebitoEmConta|\n",
            "|FibraOptica| Mensalmente|BoletoEletronico|\n",
            "|FibraOptica| Mensalmente|BoletoEletronico|\n",
            "|FibraOptica| Mensalmente|   CartaoCredito|\n",
            "|        DSL| Mensalmente|          Boleto|\n",
            "|FibraOptica| Mensalmente|BoletoEletronico|\n",
            "|        DSL|       UmAno|   DebitoEmConta|\n",
            "|        DSL| Mensalmente|          Boleto|\n",
            "|        Nao|    DoisAnos|   CartaoCredito|\n",
            "|FibraOptica|       UmAno|   CartaoCredito|\n",
            "|FibraOptica| Mensalmente|   DebitoEmConta|\n",
            "|FibraOptica| Mensalmente|BoletoEletronico|\n",
            "|FibraOptica|    DoisAnos|   CartaoCredito|\n",
            "|        Nao|       UmAno|          Boleto|\n",
            "|FibraOptica|    DoisAnos|   DebitoEmConta|\n",
            "|        DSL| Mensalmente|   CartaoCredito|\n",
            "|FibraOptica| Mensalmente|BoletoEletronico|\n",
            "+-----------+------------+----------------+\n",
            "only showing top 20 rows\n",
            "\n"
          ]
        }
      ]
    },
    {
      "cell_type": "code",
      "source": [
        "#A função .pivot() espera receber o nome da nossa coluna. Por isso, entre os parênteses \"()\" da função, vamos digitar \"Internet\" entre aspas simples.\n",
        "#O pivot vai pegar cada uma das categorias e transformá-las em colunas.\n",
        "#Mas, precisamos tomar uma decisão de como preencher os dados dentro dessas novas colunas. Para isso, na mesma linha, vamos usar o aggregate, .agg(), e dentro dele vamos dizer como fazer esse preenchimento.\n",
        "#Queremos que ele preencha utilizando uma das funções que importamos. Então, entre os parênteses de aggregate, digitamos f.lit(1).\n",
        "\n",
        "dataset.groupBy('id').pivot('MetodoPagamento').agg(f.lit(1)).na.fill(0).show()"
      ],
      "metadata": {
        "id": "jHb0pPZXPrYa",
        "colab": {
          "base_uri": "https://localhost:8080/"
        },
        "outputId": "57d48528-cebb-4ffb-ae20-9a8d1145e657"
      },
      "execution_count": null,
      "outputs": [
        {
          "output_type": "stream",
          "name": "stdout",
          "text": [
            "+-----+------+----------------+-------------+-------------+\n",
            "|   id|Boleto|BoletoEletronico|CartaoCredito|DebitoEmConta|\n",
            "+-----+------+----------------+-------------+-------------+\n",
            "| 3997|     0|               0|            1|            0|\n",
            "| 7554|     0|               1|            0|            0|\n",
            "| 6336|     0|               1|            0|            0|\n",
            "| 6357|     0|               1|            0|            0|\n",
            "| 9427|     0|               0|            1|            0|\n",
            "| 2659|     0|               0|            1|            0|\n",
            "|  471|     0|               1|            0|            0|\n",
            "| 4935|     0|               0|            1|            0|\n",
            "| 4818|     0|               0|            1|            0|\n",
            "| 1342|     1|               0|            0|            0|\n",
            "| 1959|     0|               1|            0|            0|\n",
            "| 9376|     0|               0|            1|            0|\n",
            "| 2366|     0|               1|            0|            0|\n",
            "| 1580|     0|               0|            0|            1|\n",
            "| 9900|     0|               1|            0|            0|\n",
            "| 9852|     1|               0|            0|            0|\n",
            "| 3918|     0|               1|            0|            0|\n",
            "| 7880|     0|               1|            0|            0|\n",
            "| 1238|     0|               1|            0|            0|\n",
            "|10206|     0|               1|            0|            0|\n",
            "+-----+------+----------------+-------------+-------------+\n",
            "only showing top 20 rows\n",
            "\n"
          ]
        }
      ]
    },
    {
      "cell_type": "code",
      "source": [
        "Internet = dataset.groupBy('id').pivot('Internet').agg(f.lit(1)).na.fill(0)\n",
        "TipoContrato = dataset.groupBy('id').pivot('TipoContrato').agg(f.lit(1)).na.fill(0)\n",
        "MetodoPagamento = dataset.groupBy('id').pivot('MetodoPagamento').agg(f.lit(1)).na.fill(0)"
      ],
      "metadata": {
        "id": "B1FK7TOmRSYF"
      },
      "execution_count": null,
      "outputs": []
    },
    {
      "cell_type": "code",
      "source": [
        "#Unindo essa informação com o nosso dataset principal\n",
        "#Nesse código, usamos o dataset.join() para unir as nossas informações.\n",
        "#Entre os parênteses \"()\" de join, vamos passar os dados que queremos unir (variável de Internet, TipoContrato e MetodoPagamento).\n",
        "#Por onde queremos que faça essa união das linhas? Por meio do 'id'.\n",
        "#Pois, a variável tem o ID do cliente (armazenado anteriormente através do groupBy) e o nosso dataset também possui os IDs de cada cliente.\n",
        "#Desse modo, podem associar um ID com o outro para coincidir as linhas.\n",
        "#Por isso, entre os parênteses de join, adicionamos uma vírgula e digitamos id entre aspas simples\n",
        "#Após id, adicionamos outra vírgula e digitamos how='inner'. Esse método de join que utilizamos se chama inner e vai unir ao dataset toda linha com os mesmos IDs.\n",
        "#Repitiremos o processo de join para todas as colunas (“Internet”, “TipoContrato” e “MetodoPagamento”), e através desse código uniremos os nossos dados.\n",
        "#para \"Internet\", modificaríamos o nome da coluna para “Internet_Nao”, indicando que a pessoa não tem internet. E “Internet_FibraOptica”, indicando que a internet da pessoa é fibra ótica.\n",
        "\n",
        "\n",
        "dataset\\\n",
        "    .join(Internet, 'id', how='inner')\\\n",
        "    .join(TipoContrato, 'id', how='inner')\\\n",
        "    .join(MetodoPagamento, 'id', how='inner')\\\n",
        "    .select(\n",
        "        '*',\n",
        "        f.col('DSL').alias('Internet_DSL'),\n",
        "        f.col('FibraOptica').alias('Internet_FibraOptica'),\n",
        "        f.col('Nao').alias('Internet_Nao'),\n",
        "        f.col('Mensalmente').alias('TipoContrato_Mensalmente'),\n",
        "        f.col('UmAno').alias('TipoContrato_UmAno'),\n",
        "        f.col('DoisAnos').alias('TipoContrato_DoisAnos'),\n",
        "        f.col('DebitoEmConta').alias('MetodoPagamento_DebitoEmConta'),\n",
        "        f.col('CartaoCredito').alias('MetodoPagamento_CartaoCredito'),\n",
        "        f.col('BoletoEletronico').alias('MetodoPagamento_BoletoEletronico'),\n",
        "        f.col('Boleto').alias('MetodoPagamento_Boleto')\n",
        "    ).drop(\n",
        "        'Internet', 'TipoContrato', 'MetodoPagamento', 'DSL',\n",
        "        'FibraOptica', 'Nao', 'Mensalmente', 'UmAno', 'DoisAnos',\n",
        "        'DebitoEmConta', 'CartaoCredito', 'BoletoEletronico', 'Boleto'\n",
        "    ).show()"
      ],
      "metadata": {
        "id": "HVfjs5MBw5-a",
        "colab": {
          "base_uri": "https://localhost:8080/"
        },
        "outputId": "7a11ce65-4a8a-4871-be38-fa04996f5845"
      },
      "execution_count": null,
      "outputs": [
        {
          "output_type": "stream",
          "name": "stdout",
          "text": [
            "+----+----------+---------------+-----------------+-----+-------+-----------+------------+------------------------+---------------+------------+-----------------+--------------+-------+---------------+------------+------------+--------------------+------------+------------------------+------------------+---------------------+-----------------------------+-----------------------------+--------------------------------+----------------------+\n",
            "|  id|Mais65anos|MesesDeContrato|    MesesCobrados|Churn|Conjuge|Dependentes|TelefoneFixo|MaisDeUmaLinhaTelefonica|SegurancaOnline|BackupOnline|SeguroDispositivo|SuporteTecnico|TVaCabo|StreamingFilmes|ContaCorreio|Internet_DSL|Internet_FibraOptica|Internet_Nao|TipoContrato_Mensalmente|TipoContrato_UmAno|TipoContrato_DoisAnos|MetodoPagamento_DebitoEmConta|MetodoPagamento_CartaoCredito|MetodoPagamento_BoletoEletronico|MetodoPagamento_Boleto|\n",
            "+----+----------+---------------+-----------------+-----+-------+-----------+------------+------------------------+---------------+------------+-----------------+--------------+-------+---------------+------------+------------+--------------------+------------+------------------------+------------------+---------------------+-----------------------------+-----------------------------+--------------------------------+----------------------+\n",
            "|7982|         0|              1|45.30540797610398|    1|      0|          0|           0|                       0|              0|           0|                0|             0|      1|              1|           1|           1|                   0|           0|                       1|                 0|                    0|                            0|                            0|                               1|                     0|\n",
            "|9465|         0|             60|103.6142230120257|    1|      1|          0|           1|                       1|              0|           1|                1|             0|      1|              1|           1|           0|                   1|           0|                       1|                 0|                    0|                            0|                            0|                               1|                     0|\n",
            "|2122|         0|             12|            75.85|    0|      0|          0|           1|                       1|              0|           0|                0|             1|      1|              1|           1|           1|                   0|           0|                       0|                 1|                    0|                            0|                            0|                               0|                     1|\n",
            "|3997|         0|             69|            61.45|    0|      1|          0|           1|                       0|              0|           1|                0|             0|      0|              1|           1|           1|                   0|           0|                       0|                 0|                    1|                            0|                            1|                               0|                     0|\n",
            "|6654|         0|              7|             86.5|    1|      1|          0|           1|                       1|              0|           0|                0|             0|      1|              0|           1|           0|                   1|           0|                       1|                 0|                    0|                            0|                            0|                               1|                     0|\n",
            "|7880|         0|             14|85.03742670311915|    1|      0|          0|           1|                       1|              0|           0|                0|             0|      0|              1|           1|           0|                   1|           0|                       1|                 0|                    0|                            0|                            0|                               1|                     0|\n",
            "|4519|         0|             57|            109.4|    0|      1|          0|           1|                       1|              0|           1|                1|             1|      1|              1|           1|           0|                   1|           0|                       0|                 1|                    0|                            1|                            0|                               0|                     0|\n",
            "|6466|         0|             18|            74.15|    0|      0|          0|           1|                       1|              0|           0|                0|             0|      0|              0|           0|           0|                   1|           0|                       1|                 0|                    0|                            0|                            0|                               0|                     1|\n",
            "| 496|         0|             28|             60.9|    0|      1|          0|           1|                       0|              1|           1|                0|             1|      0|              0|           0|           1|                   0|           0|                       1|                 0|                    0|                            0|                            0|                               0|                     1|\n",
            "|7833|         0|             46| 80.8824189403559|    1|      1|          0|           1|                       0|              0|           0|                0|             0|      0|              1|           1|           0|                   1|           0|                       1|                 0|                    0|                            0|                            0|                               1|                     0|\n",
            "|1591|         0|             17|             21.1|    0|      0|          0|           1|                       0|              0|           0|                0|             0|      0|              0|           0|           0|                   0|           1|                       1|                 0|                    0|                            0|                            1|                               0|                     0|\n",
            "|2866|         0|             12|             84.6|    0|      0|          0|           1|                       0|              0|           1|                0|             0|      0|              1|           1|           0|                   1|           0|                       1|                 0|                    0|                            0|                            0|                               1|                     0|\n",
            "|8592|         0|              5|82.71735660557214|    1|      1|          0|           1|                       1|              0|           0|                0|             0|      1|              0|           1|           0|                   1|           0|                       1|                 0|                    0|                            0|                            0|                               1|                     0|\n",
            "|1829|         0|              8|            74.85|    0|      0|          0|           1|                       1|              0|           0|                0|             0|      0|              0|           1|           0|                   1|           0|                       1|                 0|                    0|                            0|                            0|                               1|                     0|\n",
            "| 463|         0|              7|             99.8|    1|      0|          0|           1|                       1|              0|           1|                0|             0|      1|              1|           1|           0|                   1|           0|                       1|                 0|                    0|                            0|                            0|                               1|                     0|\n",
            "|4900|         1|             37|             85.7|    1|      1|          0|           1|                       1|              0|           0|                0|             0|      1|              0|           1|           0|                   1|           0|                       1|                 0|                    0|                            0|                            0|                               1|                     0|\n",
            "|4818|         1|             64|             80.3|    0|      1|          0|           1|                       0|              1|           0|                1|             0|      0|              0|           0|           0|                   1|           0|                       0|                 1|                    0|                            0|                            1|                               0|                     0|\n",
            "|7554|         0|              1|50.74303124820026|    1|      0|          0|           1|                       0|              0|           1|                0|             0|      0|              0|           0|           1|                   0|           0|                       1|                 0|                    0|                            0|                            0|                               1|                     0|\n",
            "|1342|         0|              8|             20.0|    0|      0|          0|           1|                       0|              0|           0|                0|             0|      0|              0|           0|           0|                   0|           1|                       0|                 0|                    1|                            0|                            0|                               0|                     1|\n",
            "|5300|         0|              1|            80.05|    1|      1|          1|           1|                       0|              0|           0|                0|             0|      1|              0|           1|           0|                   1|           0|                       1|                 0|                    0|                            0|                            0|                               0|                     1|\n",
            "+----+----------+---------------+-----------------+-----+-------+-----------+------------+------------------------+---------------+------------+-----------------+--------------+-------+---------------+------------+------------+--------------------+------------+------------------------+------------------+---------------------+-----------------------------+-----------------------------+--------------------------------+----------------------+\n",
            "only showing top 20 rows\n",
            "\n"
          ]
        }
      ]
    },
    {
      "cell_type": "code",
      "source": [
        "dataset = dataset\\\n",
        "    .join(Internet, 'id', how='inner')\\\n",
        "    .join(TipoContrato, 'id', how='inner')\\\n",
        "    .join(MetodoPagamento, 'id', how='inner')\\\n",
        "    .select(\n",
        "        '*',\n",
        "        f.col('DSL').alias('Internet_DSL'),\n",
        "        f.col('FibraOptica').alias('Internet_FibraOptica'),\n",
        "        f.col('Nao').alias('Internet_Nao'),\n",
        "        f.col('Mensalmente').alias('TipoContrato_Mensalmente'),\n",
        "        f.col('UmAno').alias('TipoContrato_UmAno'),\n",
        "        f.col('DoisAnos').alias('TipoContrato_DoisAnos'),\n",
        "        f.col('DebitoEmConta').alias('MetodoPagamento_DebitoEmConta'),\n",
        "        f.col('CartaoCredito').alias('MetodoPagamento_CartaoCredito'),\n",
        "        f.col('BoletoEletronico').alias('MetodoPagamento_BoletoEletronico'),\n",
        "        f.col('Boleto').alias('MetodoPagamento_Boleto')\n",
        "    ).drop(\n",
        "        'Internet', 'TipoContrato', 'MetodoPagamento', 'DSL',\n",
        "        'FibraOptica', 'Nao', 'Mensalmente', 'UmAno', 'DoisAnos',\n",
        "        'DebitoEmConta', 'CartaoCredito', 'BoletoEletronico', 'Boleto'\n",
        "    )"
      ],
      "metadata": {
        "id": "D58P834Tzd99"
      },
      "execution_count": null,
      "outputs": []
    },
    {
      "cell_type": "code",
      "source": [
        "dataset.show()"
      ],
      "metadata": {
        "id": "Z5cSmXRCvmEC",
        "colab": {
          "base_uri": "https://localhost:8080/"
        },
        "outputId": "c3d05ce0-21ab-44c0-8cd0-600931a0bcae"
      },
      "execution_count": null,
      "outputs": [
        {
          "output_type": "stream",
          "name": "stdout",
          "text": [
            "+----+----------+---------------+-----------------+-----+-------+-----------+------------+------------------------+---------------+------------+-----------------+--------------+-------+---------------+------------+------------+--------------------+------------+------------------------+------------------+---------------------+-----------------------------+-----------------------------+--------------------------------+----------------------+\n",
            "|  id|Mais65anos|MesesDeContrato|    MesesCobrados|Churn|Conjuge|Dependentes|TelefoneFixo|MaisDeUmaLinhaTelefonica|SegurancaOnline|BackupOnline|SeguroDispositivo|SuporteTecnico|TVaCabo|StreamingFilmes|ContaCorreio|Internet_DSL|Internet_FibraOptica|Internet_Nao|TipoContrato_Mensalmente|TipoContrato_UmAno|TipoContrato_DoisAnos|MetodoPagamento_DebitoEmConta|MetodoPagamento_CartaoCredito|MetodoPagamento_BoletoEletronico|MetodoPagamento_Boleto|\n",
            "+----+----------+---------------+-----------------+-----+-------+-----------+------------+------------------------+---------------+------------+-----------------+--------------+-------+---------------+------------+------------+--------------------+------------+------------------------+------------------+---------------------+-----------------------------+-----------------------------+--------------------------------+----------------------+\n",
            "|7982|         0|              1|45.30540797610398|    1|      0|          0|           0|                       0|              0|           0|                0|             0|      1|              1|           1|           1|                   0|           0|                       1|                 0|                    0|                            0|                            0|                               1|                     0|\n",
            "|9465|         0|             60|103.6142230120257|    1|      1|          0|           1|                       1|              0|           1|                1|             0|      1|              1|           1|           0|                   1|           0|                       1|                 0|                    0|                            0|                            0|                               1|                     0|\n",
            "|2122|         0|             12|            75.85|    0|      0|          0|           1|                       1|              0|           0|                0|             1|      1|              1|           1|           1|                   0|           0|                       0|                 1|                    0|                            0|                            0|                               0|                     1|\n",
            "|3997|         0|             69|            61.45|    0|      1|          0|           1|                       0|              0|           1|                0|             0|      0|              1|           1|           1|                   0|           0|                       0|                 0|                    1|                            0|                            1|                               0|                     0|\n",
            "|6654|         0|              7|             86.5|    1|      1|          0|           1|                       1|              0|           0|                0|             0|      1|              0|           1|           0|                   1|           0|                       1|                 0|                    0|                            0|                            0|                               1|                     0|\n",
            "|7880|         0|             14|85.03742670311915|    1|      0|          0|           1|                       1|              0|           0|                0|             0|      0|              1|           1|           0|                   1|           0|                       1|                 0|                    0|                            0|                            0|                               1|                     0|\n",
            "|4519|         0|             57|            109.4|    0|      1|          0|           1|                       1|              0|           1|                1|             1|      1|              1|           1|           0|                   1|           0|                       0|                 1|                    0|                            1|                            0|                               0|                     0|\n",
            "|6466|         0|             18|            74.15|    0|      0|          0|           1|                       1|              0|           0|                0|             0|      0|              0|           0|           0|                   1|           0|                       1|                 0|                    0|                            0|                            0|                               0|                     1|\n",
            "| 496|         0|             28|             60.9|    0|      1|          0|           1|                       0|              1|           1|                0|             1|      0|              0|           0|           1|                   0|           0|                       1|                 0|                    0|                            0|                            0|                               0|                     1|\n",
            "|7833|         0|             46| 80.8824189403559|    1|      1|          0|           1|                       0|              0|           0|                0|             0|      0|              1|           1|           0|                   1|           0|                       1|                 0|                    0|                            0|                            0|                               1|                     0|\n",
            "|1591|         0|             17|             21.1|    0|      0|          0|           1|                       0|              0|           0|                0|             0|      0|              0|           0|           0|                   0|           1|                       1|                 0|                    0|                            0|                            1|                               0|                     0|\n",
            "|2866|         0|             12|             84.6|    0|      0|          0|           1|                       0|              0|           1|                0|             0|      0|              1|           1|           0|                   1|           0|                       1|                 0|                    0|                            0|                            0|                               1|                     0|\n",
            "|8592|         0|              5|82.71735660557214|    1|      1|          0|           1|                       1|              0|           0|                0|             0|      1|              0|           1|           0|                   1|           0|                       1|                 0|                    0|                            0|                            0|                               1|                     0|\n",
            "|1829|         0|              8|            74.85|    0|      0|          0|           1|                       1|              0|           0|                0|             0|      0|              0|           1|           0|                   1|           0|                       1|                 0|                    0|                            0|                            0|                               1|                     0|\n",
            "| 463|         0|              7|             99.8|    1|      0|          0|           1|                       1|              0|           1|                0|             0|      1|              1|           1|           0|                   1|           0|                       1|                 0|                    0|                            0|                            0|                               1|                     0|\n",
            "|4900|         1|             37|             85.7|    1|      1|          0|           1|                       1|              0|           0|                0|             0|      1|              0|           1|           0|                   1|           0|                       1|                 0|                    0|                            0|                            0|                               1|                     0|\n",
            "|4818|         1|             64|             80.3|    0|      1|          0|           1|                       0|              1|           0|                1|             0|      0|              0|           0|           0|                   1|           0|                       0|                 1|                    0|                            0|                            1|                               0|                     0|\n",
            "|7554|         0|              1|50.74303124820026|    1|      0|          0|           1|                       0|              0|           1|                0|             0|      0|              0|           0|           1|                   0|           0|                       1|                 0|                    0|                            0|                            0|                               1|                     0|\n",
            "|1342|         0|              8|             20.0|    0|      0|          0|           1|                       0|              0|           0|                0|             0|      0|              0|           0|           0|                   0|           1|                       0|                 0|                    1|                            0|                            0|                               0|                     1|\n",
            "|5300|         0|              1|            80.05|    1|      1|          1|           1|                       0|              0|           0|                0|             0|      1|              0|           1|           0|                   1|           0|                       1|                 0|                    0|                            0|                            0|                               0|                     1|\n",
            "+----+----------+---------------+-----------------+-----+-------+-----------+------------+------------------------+---------------+------------+-----------------+--------------+-------+---------------+------------+------------+--------------------+------------+------------------------+------------------+---------------------+-----------------------------+-----------------------------+--------------------------------+----------------------+\n",
            "only showing top 20 rows\n",
            "\n"
          ]
        }
      ]
    },
    {
      "cell_type": "markdown",
      "source": [],
      "metadata": {
        "id": "3cnBL2yHKZnG"
      }
    },
    {
      "cell_type": "code",
      "source": [
        "dataset.printSchema()"
      ],
      "metadata": {
        "id": "zFSSoSTYKY10",
        "colab": {
          "base_uri": "https://localhost:8080/"
        },
        "outputId": "627557ac-b28f-4ffc-b836-0c5d83abcc69"
      },
      "execution_count": null,
      "outputs": [
        {
          "output_type": "stream",
          "name": "stdout",
          "text": [
            "root\n",
            " |-- id: integer (nullable = true)\n",
            " |-- Mais65anos: integer (nullable = true)\n",
            " |-- MesesDeContrato: integer (nullable = true)\n",
            " |-- MesesCobrados: double (nullable = true)\n",
            " |-- Churn: integer (nullable = false)\n",
            " |-- Conjuge: integer (nullable = false)\n",
            " |-- Dependentes: integer (nullable = false)\n",
            " |-- TelefoneFixo: integer (nullable = false)\n",
            " |-- MaisDeUmaLinhaTelefonica: integer (nullable = false)\n",
            " |-- SegurancaOnline: integer (nullable = false)\n",
            " |-- BackupOnline: integer (nullable = false)\n",
            " |-- SeguroDispositivo: integer (nullable = false)\n",
            " |-- SuporteTecnico: integer (nullable = false)\n",
            " |-- TVaCabo: integer (nullable = false)\n",
            " |-- StreamingFilmes: integer (nullable = false)\n",
            " |-- ContaCorreio: integer (nullable = false)\n",
            " |-- Internet_DSL: integer (nullable = true)\n",
            " |-- Internet_FibraOptica: integer (nullable = true)\n",
            " |-- Internet_Nao: integer (nullable = true)\n",
            " |-- TipoContrato_Mensalmente: integer (nullable = true)\n",
            " |-- TipoContrato_UmAno: integer (nullable = true)\n",
            " |-- TipoContrato_DoisAnos: integer (nullable = true)\n",
            " |-- MetodoPagamento_DebitoEmConta: integer (nullable = true)\n",
            " |-- MetodoPagamento_CartaoCredito: integer (nullable = true)\n",
            " |-- MetodoPagamento_BoletoEletronico: integer (nullable = true)\n",
            " |-- MetodoPagamento_Boleto: integer (nullable = true)\n",
            "\n"
          ]
        }
      ]
    },
    {
      "cell_type": "markdown",
      "source": [
        "# **Aula 2 - Regressão Logistíca**"
      ],
      "metadata": {
        "id": "nLPNrb5BWdnE"
      }
    },
    {
      "cell_type": "markdown",
      "source": [
        "## **2.1 O Modelo**"
      ],
      "metadata": {
        "id": "Sle30yGxY7B1"
      }
    },
    {
      "cell_type": "markdown",
      "source": [
        "O algoritmo de regressão logística faz parte dos algoritmos de aprendizado de máquina supervisionado e é utilizado para problemas nos quais a variável resposta é categórica, podendo ser do tipo binomial (apenas dois níveis) ou multinomial (três ou mais níveis).\n",
        "\n",
        "Em nosso curso, vamos trabalhar com a variável categórica do tipo binomial. O intuito desse algoritmo é modelar a probabilidade de uma determinada classe. Para uma variável alvo com as classes 0 e 1, por exemplo, caso a probabilidade de um registro seja maior que um determinado ponto de corte, o modelo classifica esse registro como 1. Caso seja menor, o modelo classifica como 0.\n",
        "\n",
        "![image.png](data:image/png;base64,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)\n",
        "\n",
        "Na imagem abaixo, podemos conferir como que a regressão logística se comporta:\n",
        "\n",
        "Gráfico da regressão logística. O eixo vertical exibe três valores: 0, 0,5 e 1. Dentro do gráfico temos uma curva com o formato da letra S esticada que inicia no canto superior esquerdo e termina no canto superior direito. No eixo x temos cinco pontos vermelhos e dois azuis. Existem três linhas tracejadas, duas na horizontal e uma na vertical. A primeira linha horizontal começa no valor 1 com dois pontos vermelhos e sete azuis. A segunda linha horizontal inicia no valor 0.5 do eixo vertical e nela está escrito “ponto de corte”. A terceira linha é vertical e começa do meio do eixo horizontal e vai até a primeira linha tracejada. O eixo x tem cinco pontos vermelhos e dois azuis.\n",
        "\n",
        "Na figura acima, os pontos em que y é igual a 1 representam os verdadeiros valores da classe 1. Os pontos em que y é igual a 0 representam os verdadeiros valores da classe 0. A curva em forma de S representa o modelo de regressão logística, que corresponde ao valor de probabilidade de cada um dos pontos.\n",
        "\n",
        "O ponto de corte, definido como 0.5, faz com que os pontos representados em vermelho sejam classificados como da classe 0, uma vez que possuem valor de probabilidade segundo o modelo menor que 0.5. Já os pontos representados em azul são classificados como da classe 1, dado que a curva para esses pontos tem valor de probabilidade acima de 0.5."
      ],
      "metadata": {
        "id": "9KueHUemXfRE"
      }
    },
    {
      "cell_type": "markdown",
      "source": [
        "## **2.2 Preparação dos Dados**"
      ],
      "metadata": {
        "id": "XX-8T_ehWn3G"
      }
    },
    {
      "cell_type": "code",
      "source": [
        "dataset.show()"
      ],
      "metadata": {
        "id": "dTnCEhhZKYzC",
        "colab": {
          "base_uri": "https://localhost:8080/"
        },
        "outputId": "aa6c1321-de3d-46c4-aee7-f28f2836a254"
      },
      "execution_count": null,
      "outputs": [
        {
          "output_type": "stream",
          "name": "stdout",
          "text": [
            "+----+----------+---------------+-----------------+-----+-------+-----------+------------+------------------------+---------------+------------+-----------------+--------------+-------+---------------+------------+------------+--------------------+------------+------------------------+------------------+---------------------+-----------------------------+-----------------------------+--------------------------------+----------------------+\n",
            "|  id|Mais65anos|MesesDeContrato|    MesesCobrados|Churn|Conjuge|Dependentes|TelefoneFixo|MaisDeUmaLinhaTelefonica|SegurancaOnline|BackupOnline|SeguroDispositivo|SuporteTecnico|TVaCabo|StreamingFilmes|ContaCorreio|Internet_DSL|Internet_FibraOptica|Internet_Nao|TipoContrato_Mensalmente|TipoContrato_UmAno|TipoContrato_DoisAnos|MetodoPagamento_DebitoEmConta|MetodoPagamento_CartaoCredito|MetodoPagamento_BoletoEletronico|MetodoPagamento_Boleto|\n",
            "+----+----------+---------------+-----------------+-----+-------+-----------+------------+------------------------+---------------+------------+-----------------+--------------+-------+---------------+------------+------------+--------------------+------------+------------------------+------------------+---------------------+-----------------------------+-----------------------------+--------------------------------+----------------------+\n",
            "|7982|         0|              1|45.30540797610398|    1|      0|          0|           0|                       0|              0|           0|                0|             0|      1|              1|           1|           1|                   0|           0|                       1|                 0|                    0|                            0|                            0|                               1|                     0|\n",
            "|9465|         0|             60|103.6142230120257|    1|      1|          0|           1|                       1|              0|           1|                1|             0|      1|              1|           1|           0|                   1|           0|                       1|                 0|                    0|                            0|                            0|                               1|                     0|\n",
            "|2122|         0|             12|            75.85|    0|      0|          0|           1|                       1|              0|           0|                0|             1|      1|              1|           1|           1|                   0|           0|                       0|                 1|                    0|                            0|                            0|                               0|                     1|\n",
            "|3997|         0|             69|            61.45|    0|      1|          0|           1|                       0|              0|           1|                0|             0|      0|              1|           1|           1|                   0|           0|                       0|                 0|                    1|                            0|                            1|                               0|                     0|\n",
            "|6654|         0|              7|             86.5|    1|      1|          0|           1|                       1|              0|           0|                0|             0|      1|              0|           1|           0|                   1|           0|                       1|                 0|                    0|                            0|                            0|                               1|                     0|\n",
            "|7880|         0|             14|85.03742670311915|    1|      0|          0|           1|                       1|              0|           0|                0|             0|      0|              1|           1|           0|                   1|           0|                       1|                 0|                    0|                            0|                            0|                               1|                     0|\n",
            "|4519|         0|             57|            109.4|    0|      1|          0|           1|                       1|              0|           1|                1|             1|      1|              1|           1|           0|                   1|           0|                       0|                 1|                    0|                            1|                            0|                               0|                     0|\n",
            "|6466|         0|             18|            74.15|    0|      0|          0|           1|                       1|              0|           0|                0|             0|      0|              0|           0|           0|                   1|           0|                       1|                 0|                    0|                            0|                            0|                               0|                     1|\n",
            "| 496|         0|             28|             60.9|    0|      1|          0|           1|                       0|              1|           1|                0|             1|      0|              0|           0|           1|                   0|           0|                       1|                 0|                    0|                            0|                            0|                               0|                     1|\n",
            "|7833|         0|             46| 80.8824189403559|    1|      1|          0|           1|                       0|              0|           0|                0|             0|      0|              1|           1|           0|                   1|           0|                       1|                 0|                    0|                            0|                            0|                               1|                     0|\n",
            "|1591|         0|             17|             21.1|    0|      0|          0|           1|                       0|              0|           0|                0|             0|      0|              0|           0|           0|                   0|           1|                       1|                 0|                    0|                            0|                            1|                               0|                     0|\n",
            "|2866|         0|             12|             84.6|    0|      0|          0|           1|                       0|              0|           1|                0|             0|      0|              1|           1|           0|                   1|           0|                       1|                 0|                    0|                            0|                            0|                               1|                     0|\n",
            "|8592|         0|              5|82.71735660557214|    1|      1|          0|           1|                       1|              0|           0|                0|             0|      1|              0|           1|           0|                   1|           0|                       1|                 0|                    0|                            0|                            0|                               1|                     0|\n",
            "|1829|         0|              8|            74.85|    0|      0|          0|           1|                       1|              0|           0|                0|             0|      0|              0|           1|           0|                   1|           0|                       1|                 0|                    0|                            0|                            0|                               1|                     0|\n",
            "| 463|         0|              7|             99.8|    1|      0|          0|           1|                       1|              0|           1|                0|             0|      1|              1|           1|           0|                   1|           0|                       1|                 0|                    0|                            0|                            0|                               1|                     0|\n",
            "|4900|         1|             37|             85.7|    1|      1|          0|           1|                       1|              0|           0|                0|             0|      1|              0|           1|           0|                   1|           0|                       1|                 0|                    0|                            0|                            0|                               1|                     0|\n",
            "|4818|         1|             64|             80.3|    0|      1|          0|           1|                       0|              1|           0|                1|             0|      0|              0|           0|           0|                   1|           0|                       0|                 1|                    0|                            0|                            1|                               0|                     0|\n",
            "|7554|         0|              1|50.74303124820026|    1|      0|          0|           1|                       0|              0|           1|                0|             0|      0|              0|           0|           1|                   0|           0|                       1|                 0|                    0|                            0|                            0|                               1|                     0|\n",
            "|1342|         0|              8|             20.0|    0|      0|          0|           1|                       0|              0|           0|                0|             0|      0|              0|           0|           0|                   0|           1|                       0|                 0|                    1|                            0|                            0|                               0|                     1|\n",
            "|5300|         0|              1|            80.05|    1|      1|          1|           1|                       0|              0|           0|                0|             0|      1|              0|           1|           0|                   1|           0|                       1|                 0|                    0|                            0|                            0|                               0|                     1|\n",
            "+----+----------+---------------+-----------------+-----+-------+-----------+------------+------------------------+---------------+------------+-----------------+--------------+-------+---------------+------------+------------+--------------------+------------+------------------------+------------------+---------------------+-----------------------------+-----------------------------+--------------------------------+----------------------+\n",
            "only showing top 20 rows\n",
            "\n"
          ]
        }
      ]
    },
    {
      "cell_type": "code",
      "source": [
        "from pyspark.ml.feature import VectorAssembler"
      ],
      "metadata": {
        "id": "ihE4PcZ9KYwQ"
      },
      "execution_count": null,
      "outputs": []
    },
    {
      "cell_type": "code",
      "source": [
        "#transformando os dados em vetores\n",
        "#Mudando o nome da nossa coluna target do “Churn” pelo nome padrão esperado pelo módulo (Label).\n",
        "\n",
        "dataset = dataset.withColumnRenamed('Churn', 'label')\n"
      ],
      "metadata": {
        "id": "PiA1i__YKYto"
      },
      "execution_count": null,
      "outputs": []
    },
    {
      "cell_type": "code",
      "source": [
        "#lista com as features\n",
        "X = dataset.columns"
      ],
      "metadata": {
        "id": "efKlYwS1KYqz"
      },
      "execution_count": null,
      "outputs": []
    },
    {
      "cell_type": "code",
      "source": [
        "#tirando o target da lista X e o ID que não fará parte da previsão do modelo\n",
        "\n",
        "X = dataset.columns\n",
        "X.remove('label')\n",
        "X.remove('id')\n",
        "X"
      ],
      "metadata": {
        "id": "PeY-woLJKYoF",
        "colab": {
          "base_uri": "https://localhost:8080/"
        },
        "outputId": "668e480b-4a53-487e-d9df-dd7ca70d913a"
      },
      "execution_count": null,
      "outputs": [
        {
          "output_type": "execute_result",
          "data": {
            "text/plain": [
              "['Mais65anos',\n",
              " 'MesesDeContrato',\n",
              " 'MesesCobrados',\n",
              " 'Conjuge',\n",
              " 'Dependentes',\n",
              " 'TelefoneFixo',\n",
              " 'MaisDeUmaLinhaTelefonica',\n",
              " 'SegurancaOnline',\n",
              " 'BackupOnline',\n",
              " 'SeguroDispositivo',\n",
              " 'SuporteTecnico',\n",
              " 'TVaCabo',\n",
              " 'StreamingFilmes',\n",
              " 'ContaCorreio',\n",
              " 'Internet_DSL',\n",
              " 'Internet_FibraOptica',\n",
              " 'Internet_Nao',\n",
              " 'TipoContrato_Mensalmente',\n",
              " 'TipoContrato_UmAno',\n",
              " 'TipoContrato_DoisAnos',\n",
              " 'MetodoPagamento_DebitoEmConta',\n",
              " 'MetodoPagamento_CartaoCredito',\n",
              " 'MetodoPagamento_BoletoEletronico',\n",
              " 'MetodoPagamento_Boleto']"
            ]
          },
          "metadata": {},
          "execution_count": 29
        }
      ]
    },
    {
      "cell_type": "code",
      "source": [
        "assembler = VectorAssembler(inputCols=X, outputCol='features')"
      ],
      "metadata": {
        "id": "0EZJx1yqKYlL"
      },
      "execution_count": null,
      "outputs": []
    },
    {
      "cell_type": "code",
      "source": [
        "dataset_prep = assembler.transform(dataset).select('features', 'label')"
      ],
      "metadata": {
        "id": "LfI2JIBGKYiY"
      },
      "execution_count": null,
      "outputs": []
    },
    {
      "cell_type": "code",
      "source": [
        "dataset_prep.show()"
      ],
      "metadata": {
        "id": "6EYUfyK2KYfk",
        "colab": {
          "base_uri": "https://localhost:8080/"
        },
        "outputId": "7c8d4fad-26e1-4a3c-f187-f693df509b32"
      },
      "execution_count": null,
      "outputs": [
        {
          "output_type": "stream",
          "name": "stdout",
          "text": [
            "+--------------------+-----+\n",
            "|            features|label|\n",
            "+--------------------+-----+\n",
            "|(24,[1,2,11,12,13...|    1|\n",
            "|(24,[1,2,3,5,6,8,...|    1|\n",
            "|(24,[1,2,5,6,10,1...|    0|\n",
            "|(24,[1,2,3,5,8,12...|    0|\n",
            "|(24,[1,2,3,5,6,11...|    1|\n",
            "|(24,[1,2,5,6,12,1...|    1|\n",
            "|(24,[1,2,3,5,6,8,...|    0|\n",
            "|(24,[1,2,5,6,15,1...|    0|\n",
            "|(24,[1,2,3,5,7,8,...|    0|\n",
            "|(24,[1,2,3,5,12,1...|    1|\n",
            "|(24,[1,2,5,16,17,...|    0|\n",
            "|(24,[1,2,5,8,12,1...|    0|\n",
            "|(24,[1,2,3,5,6,11...|    1|\n",
            "|(24,[1,2,5,6,13,1...|    0|\n",
            "|(24,[1,2,5,6,8,11...|    1|\n",
            "|(24,[0,1,2,3,5,6,...|    1|\n",
            "|(24,[0,1,2,3,5,7,...|    0|\n",
            "|(24,[1,2,5,8,14,1...|    1|\n",
            "|(24,[1,2,5,16,19,...|    0|\n",
            "|(24,[1,2,3,4,5,11...|    1|\n",
            "+--------------------+-----+\n",
            "only showing top 20 rows\n",
            "\n"
          ]
        }
      ]
    },
    {
      "cell_type": "code",
      "source": [
        "dataset_prep.show(10, truncate=False)"
      ],
      "metadata": {
        "id": "zgp-iQXAKYc2",
        "colab": {
          "base_uri": "https://localhost:8080/"
        },
        "outputId": "ea83cfcd-3236-49e2-fded-55a08bd17564"
      },
      "execution_count": null,
      "outputs": [
        {
          "output_type": "stream",
          "name": "stdout",
          "text": [
            "+-----------------------------------------------------------------------------------------------------------+-----+\n",
            "|features                                                                                                   |label|\n",
            "+-----------------------------------------------------------------------------------------------------------+-----+\n",
            "|(24,[1,2,11,12,13,14,17,22],[1.0,45.30540797610398,1.0,1.0,1.0,1.0,1.0,1.0])                               |1    |\n",
            "|(24,[1,2,3,5,6,8,9,11,12,13,15,17,22],[60.0,103.6142230120257,1.0,1.0,1.0,1.0,1.0,1.0,1.0,1.0,1.0,1.0,1.0])|1    |\n",
            "|(24,[1,2,5,6,10,11,12,13,14,18,23],[12.0,75.85,1.0,1.0,1.0,1.0,1.0,1.0,1.0,1.0,1.0])                       |0    |\n",
            "|(24,[1,2,3,5,8,12,13,14,19,21],[69.0,61.45,1.0,1.0,1.0,1.0,1.0,1.0,1.0,1.0])                               |0    |\n",
            "|(24,[1,2,3,5,6,11,13,15,17,22],[7.0,86.5,1.0,1.0,1.0,1.0,1.0,1.0,1.0,1.0])                                 |1    |\n",
            "|(24,[1,2,5,6,12,13,15,17,22],[14.0,85.03742670311915,1.0,1.0,1.0,1.0,1.0,1.0,1.0])                         |1    |\n",
            "|(24,[1,2,3,5,6,8,9,10,11,12,13,15,18,20],[57.0,109.4,1.0,1.0,1.0,1.0,1.0,1.0,1.0,1.0,1.0,1.0,1.0,1.0])     |0    |\n",
            "|(24,[1,2,5,6,15,17,23],[18.0,74.15,1.0,1.0,1.0,1.0,1.0])                                                   |0    |\n",
            "|(24,[1,2,3,5,7,8,10,14,17,23],[28.0,60.9,1.0,1.0,1.0,1.0,1.0,1.0,1.0,1.0])                                 |0    |\n",
            "|(24,[1,2,3,5,12,13,15,17,22],[46.0,80.8824189403559,1.0,1.0,1.0,1.0,1.0,1.0,1.0])                          |1    |\n",
            "+-----------------------------------------------------------------------------------------------------------+-----+\n",
            "only showing top 10 rows\n",
            "\n"
          ]
        }
      ]
    },
    {
      "cell_type": "code",
      "source": [
        "SEED = 101"
      ],
      "metadata": {
        "id": "bNB9RqSIa9kx"
      },
      "execution_count": null,
      "outputs": []
    },
    {
      "cell_type": "markdown",
      "source": [
        "## **2.3 Logistic Regression**"
      ],
      "metadata": {
        "id": "uzfoZ0HJcUBN"
      }
    },
    {
      "cell_type": "code",
      "source": [
        "treino, teste = dataset_prep.randomSplit([0.7, 0.3], seed=SEED)"
      ],
      "metadata": {
        "id": "TQLUaoKRKYZ9"
      },
      "execution_count": null,
      "outputs": []
    },
    {
      "cell_type": "code",
      "source": [
        "treino.show()"
      ],
      "metadata": {
        "id": "MBaHsKAAKYXT",
        "colab": {
          "base_uri": "https://localhost:8080/"
        },
        "outputId": "e5c93bef-b2a7-44ee-bbcc-6ff0082b41d7"
      },
      "execution_count": null,
      "outputs": [
        {
          "output_type": "stream",
          "name": "stdout",
          "text": [
            "+--------------------+-----+\n",
            "|            features|label|\n",
            "+--------------------+-----+\n",
            "|(24,[0,1,2,3,4,5,...|    0|\n",
            "|(24,[0,1,2,3,4,5,...|    0|\n",
            "|(24,[0,1,2,3,4,5,...|    0|\n",
            "|(24,[0,1,2,3,4,5,...|    0|\n",
            "|(24,[0,1,2,3,4,5,...|    0|\n",
            "|(24,[0,1,2,3,4,5,...|    1|\n",
            "|(24,[0,1,2,3,4,5,...|    0|\n",
            "|(24,[0,1,2,3,4,5,...|    1|\n",
            "|(24,[0,1,2,3,4,5,...|    0|\n",
            "|(24,[0,1,2,3,4,5,...|    0|\n",
            "|(24,[0,1,2,3,4,5,...|    0|\n",
            "|(24,[0,1,2,3,4,5,...|    0|\n",
            "|(24,[0,1,2,3,4,5,...|    0|\n",
            "|(24,[0,1,2,3,4,5,...|    0|\n",
            "|(24,[0,1,2,3,4,5,...|    0|\n",
            "|(24,[0,1,2,3,4,5,...|    1|\n",
            "|(24,[0,1,2,3,4,5,...|    0|\n",
            "|(24,[0,1,2,3,4,5,...|    0|\n",
            "|(24,[0,1,2,3,4,5,...|    0|\n",
            "|(24,[0,1,2,3,4,5,...|    0|\n",
            "+--------------------+-----+\n",
            "only showing top 20 rows\n",
            "\n"
          ]
        }
      ]
    },
    {
      "cell_type": "code",
      "source": [
        "treino.count()"
      ],
      "metadata": {
        "id": "O3kATMfUKYUU",
        "colab": {
          "base_uri": "https://localhost:8080/"
        },
        "outputId": "5ef5a270-4e95-4b24-d63e-11d3146c1ac0"
      },
      "execution_count": null,
      "outputs": [
        {
          "output_type": "execute_result",
          "data": {
            "text/plain": [
              "7206"
            ]
          },
          "metadata": {},
          "execution_count": 37
        }
      ]
    },
    {
      "cell_type": "code",
      "source": [
        "teste.count()"
      ],
      "metadata": {
        "colab": {
          "base_uri": "https://localhost:8080/"
        },
        "id": "boQeoYncaxjb",
        "outputId": "957a0723-35c7-4821-f2b1-b8fb9cfc9f73"
      },
      "execution_count": null,
      "outputs": [
        {
          "output_type": "execute_result",
          "data": {
            "text/plain": [
              "3142"
            ]
          },
          "metadata": {},
          "execution_count": 38
        }
      ]
    },
    {
      "cell_type": "code",
      "source": [
        "from pyspark.ml.classification import LogisticRegression"
      ],
      "metadata": {
        "id": "h4QsqbY9a2cN"
      },
      "execution_count": null,
      "outputs": []
    },
    {
      "cell_type": "code",
      "source": [
        "lr = LogisticRegression()"
      ],
      "metadata": {
        "id": "wU-vfWq1bD8b"
      },
      "execution_count": null,
      "outputs": []
    },
    {
      "cell_type": "code",
      "source": [
        "modelo_lr = lr.fit(treino)"
      ],
      "metadata": {
        "id": "3vQcHhbMbGyd"
      },
      "execution_count": null,
      "outputs": []
    },
    {
      "cell_type": "code",
      "source": [
        "previsoes_lr_teste = modelo_lr.transform(teste)"
      ],
      "metadata": {
        "id": "R4v5IzeubMBm"
      },
      "execution_count": null,
      "outputs": []
    },
    {
      "cell_type": "code",
      "source": [
        "#O - NÃO Cancelou\n",
        "#1 - Cancelou\n",
        "\n",
        "previsoes_lr_teste.show()"
      ],
      "metadata": {
        "colab": {
          "base_uri": "https://localhost:8080/"
        },
        "id": "yBxy4z34bMxj",
        "outputId": "37d29b2c-f4d2-41a2-f79c-98d6d124e21b"
      },
      "execution_count": null,
      "outputs": [
        {
          "output_type": "stream",
          "name": "stdout",
          "text": [
            "+--------------------+-----+--------------------+--------------------+----------+\n",
            "|            features|label|       rawPrediction|         probability|prediction|\n",
            "+--------------------+-----+--------------------+--------------------+----------+\n",
            "|(24,[0,1,2,3,4,5,...|    0|[3.02174179751551...|[0.95354674000282...|       0.0|\n",
            "|(24,[0,1,2,3,4,5,...|    0|[-0.0922192966076...|[0.47696150091605...|       1.0|\n",
            "|(24,[0,1,2,3,4,5,...|    1|[0.18744121711361...|[0.54672358463156...|       0.0|\n",
            "|(24,[0,1,2,3,4,5,...|    1|[0.91716501260103...|[0.71446410549163...|       0.0|\n",
            "|(24,[0,1,2,3,4,5,...|    0|[-0.1495904711610...|[0.46267196467801...|       1.0|\n",
            "|(24,[0,1,2,3,4,5,...|    0|[-0.1680594619286...|[0.45808374494006...|       1.0|\n",
            "|(24,[0,1,2,3,4,5,...|    0|[-1.4170949608173...|[0.19511740608882...|       1.0|\n",
            "|(24,[0,1,2,3,4,5,...|    0|[0.14194260698794...|[0.53542619200881...|       0.0|\n",
            "|(24,[0,1,2,3,4,5,...|    0|[0.67046644011599...|[0.66160759507905...|       0.0|\n",
            "|(24,[0,1,2,3,4,5,...|    0|[1.46841036244999...|[0.81281564870727...|       0.0|\n",
            "|(24,[0,1,2,3,4,5,...|    1|[-0.2187083605333...|[0.44553982138394...|       1.0|\n",
            "|(24,[0,1,2,3,4,5,...|    1|[-1.0342537570067...|[0.26226025614667...|       1.0|\n",
            "|(24,[0,1,2,3,4,5,...|    0|[5.50017227754075...|[0.99593056056380...|       0.0|\n",
            "|(24,[0,1,2,3,4,8,...|    0|[0.78512618330368...|[0.68678387079939...|       0.0|\n",
            "|(24,[0,1,2,3,4,8,...|    0|[0.84647423373263...|[0.69982700991647...|       0.0|\n",
            "|(24,[0,1,2,3,4,8,...|    0|[2.71891428132878...|[0.93813354968549...|       0.0|\n",
            "|(24,[0,1,2,3,5,6,...|    0|[4.47635640497720...|[0.98875314765919...|       0.0|\n",
            "|(24,[0,1,2,3,5,6,...|    0|[1.61650336401316...|[0.83431233628064...|       0.0|\n",
            "|(24,[0,1,2,3,5,6,...|    0|[3.44539231448552...|[0.96909343212403...|       0.0|\n",
            "|(24,[0,1,2,3,5,6,...|    0|[3.42849251731228...|[0.96858322780664...|       0.0|\n",
            "+--------------------+-----+--------------------+--------------------+----------+\n",
            "only showing top 20 rows\n",
            "\n"
          ]
        }
      ]
    },
    {
      "cell_type": "markdown",
      "source": [
        "## **2.4 Métricas**"
      ],
      "metadata": {
        "id": "hzc19B6acZQV"
      }
    },
    {
      "cell_type": "code",
      "source": [
        "modelo_lr.summary"
      ],
      "metadata": {
        "colab": {
          "base_uri": "https://localhost:8080/"
        },
        "id": "V7hrWNt_cchY",
        "outputId": "c11d1fba-a7c9-4f5b-d3a1-42e38a229d64"
      },
      "execution_count": null,
      "outputs": [
        {
          "output_type": "execute_result",
          "data": {
            "text/plain": [
              "<pyspark.ml.classification.BinaryLogisticRegressionTrainingSummary at 0x789119be30d0>"
            ]
          },
          "metadata": {},
          "execution_count": 44
        }
      ]
    },
    {
      "cell_type": "code",
      "source": [
        "resumo_lr_treino = modelo_lr.summary"
      ],
      "metadata": {
        "id": "dmN8_Pwichfy"
      },
      "execution_count": null,
      "outputs": []
    },
    {
      "cell_type": "code",
      "source": [
        "resumo_lr_treino.accuracy"
      ],
      "metadata": {
        "colab": {
          "base_uri": "https://localhost:8080/"
        },
        "id": "jmds7i98clKf",
        "outputId": "c0c61141-ee14-4865-dcb3-8fbb672123af"
      },
      "execution_count": null,
      "outputs": [
        {
          "output_type": "execute_result",
          "data": {
            "text/plain": [
              "0.7849014709963918"
            ]
          },
          "metadata": {},
          "execution_count": 46
        }
      ]
    },
    {
      "cell_type": "code",
      "source": [
        "print(\"Acurácia: %f\" % resumo_lr_treino.accuracy)\n",
        "print(\"Precisão: %f\" % resumo_lr_treino.precisionByLabel[1])\n",
        "print(\"Recall: %f\" % resumo_lr_treino.recallByLabel[1])\n",
        "print(\"F1: %f\" % resumo_lr_treino.fMeasureByLabel()[1])"
      ],
      "metadata": {
        "colab": {
          "base_uri": "https://localhost:8080/"
        },
        "id": "3rJtlKzkcqfD",
        "outputId": "8579fb75-087e-41ce-a7f8-ef2ea9d0bc48"
      },
      "execution_count": null,
      "outputs": [
        {
          "output_type": "stream",
          "name": "stdout",
          "text": [
            "Acurácia: 0.784901\n",
            "Precisão: 0.770686\n",
            "Recall: 0.812517\n",
            "F1: 0.791049\n"
          ]
        }
      ]
    },
    {
      "cell_type": "code",
      "source": [
        "previsoes_lr_teste.select('label', 'prediction').where((f.col('label') == 1) & (f.col('prediction') == 1)).count()"
      ],
      "metadata": {
        "colab": {
          "base_uri": "https://localhost:8080/"
        },
        "id": "GFpkae81c7FL",
        "outputId": "76a0e238-9e8f-4e6f-ed65-da5e4e237f5d"
      },
      "execution_count": null,
      "outputs": [
        {
          "output_type": "execute_result",
          "data": {
            "text/plain": [
              "1256"
            ]
          },
          "metadata": {},
          "execution_count": 48
        }
      ]
    },
    {
      "cell_type": "code",
      "source": [
        "tp = previsoes_lr_teste.select('label', 'prediction').where((f.col('label') == 1) & (f.col('prediction') == 1)).count()\n",
        "tn = previsoes_lr_teste.select('label', 'prediction').where((f.col('label') == 0) & (f.col('prediction') == 0)).count()\n",
        "fp = previsoes_lr_teste.select('label', 'prediction').where((f.col('label') == 0) & (f.col('prediction') == 1)).count()\n",
        "fn = previsoes_lr_teste.select('label', 'prediction').where((f.col('label') == 1) & (f.col('prediction') == 0)).count()\n",
        "print(tp, tn,fp, fn)"
      ],
      "metadata": {
        "colab": {
          "base_uri": "https://localhost:8080/"
        },
        "id": "vd8ccZfAdxoT",
        "outputId": "d8d72da9-a3bd-4e55-cbd8-549c4479511a"
      },
      "execution_count": null,
      "outputs": [
        {
          "output_type": "stream",
          "name": "stdout",
          "text": [
            "1256 1179 400 307\n"
          ]
        }
      ]
    },
    {
      "cell_type": "code",
      "source": [
        "#intrepretando melhor a matriz de confusão\n",
        "def calcula_mostra_matriz_confusao(df_transform_modelo, normalize=False, percentage=True):\n",
        "  tp = df_transform_modelo.select('label', 'prediction').where((f.col('label') == 1) & (f.col('prediction') == 1)).count()\n",
        "  tn = df_transform_modelo.select('label', 'prediction').where((f.col('label') == 0) & (f.col('prediction') == 0)).count()\n",
        "  fp = df_transform_modelo.select('label', 'prediction').where((f.col('label') == 0) & (f.col('prediction') == 1)).count()\n",
        "  fn = df_transform_modelo.select('label', 'prediction').where((f.col('label') == 1) & (f.col('prediction') == 0)).count()\n",
        "\n",
        "  valorP = 1\n",
        "  valorN = 1\n",
        "\n",
        "  if normalize:\n",
        "    valorP = tp + fn\n",
        "    valorN = fp + tn\n",
        "\n",
        "  if percentage and normalize:\n",
        "    valorP = valorP / 100\n",
        "    valorN = valorN / 100\n",
        "\n",
        "  print(' '*20, 'Previsto')\n",
        "  print(' '*15, 'Churn', ' '*5 ,'Não-Churn')\n",
        "  print(' '*4, 'Churn', ' '*6, int(tp/valorP), ' '*7, int(fn/valorP))\n",
        "  print('Real')\n",
        "  print(' '*4, 'Não-Churn', ' '*2, int(fp/valorN), ' '*7, int(tn/valorN))"
      ],
      "metadata": {
        "id": "jbT0XjfgeCZZ"
      },
      "execution_count": null,
      "outputs": []
    },
    {
      "cell_type": "code",
      "source": [
        "calcula_mostra_matriz_confusao(previsoes_lr_teste, normalize=False)"
      ],
      "metadata": {
        "colab": {
          "base_uri": "https://localhost:8080/"
        },
        "id": "6XHDvITreM5R",
        "outputId": "2e288b76-a3b5-4a98-e4b7-45bb8a16a07a"
      },
      "execution_count": null,
      "outputs": [
        {
          "output_type": "stream",
          "name": "stdout",
          "text": [
            "                     Previsto\n",
            "                Churn       Não-Churn\n",
            "     Churn        1256         307\n",
            "Real\n",
            "     Não-Churn    400         1179\n"
          ]
        }
      ]
    },
    {
      "cell_type": "markdown",
      "source": [
        "## **2.5 Decision Tree Classifier**"
      ],
      "metadata": {
        "id": "YU_0Hp2zZPEL"
      }
    },
    {
      "cell_type": "markdown",
      "source": [
        "<center><img src=\"https://cdn1.gnarususercontent.com.br/1/1319057/49c010df-d0f9-432d-8398-1a8b83eb024f.png\"/></center>"
      ],
      "metadata": {
        "id": "lIul4HB3ZdeF"
      }
    },
    {
      "cell_type": "code",
      "source": [
        "from pyspark.ml.classification import DecisionTreeClassifier"
      ],
      "metadata": {
        "id": "dqix2K1hZSu9"
      },
      "execution_count": null,
      "outputs": []
    },
    {
      "cell_type": "code",
      "source": [
        "dtc = DecisionTreeClassifier()"
      ],
      "metadata": {
        "id": "NmQwqBlZaXH8"
      },
      "execution_count": null,
      "outputs": []
    },
    {
      "cell_type": "code",
      "source": [
        "dtc = DecisionTreeClassifier(seed=SEED)"
      ],
      "metadata": {
        "id": "i7H9vbk-abuf"
      },
      "execution_count": null,
      "outputs": []
    },
    {
      "cell_type": "code",
      "source": [
        "modelo_dtc = dtc.fit(treino)"
      ],
      "metadata": {
        "id": "BLlzad3haqym"
      },
      "execution_count": null,
      "outputs": []
    },
    {
      "cell_type": "code",
      "source": [
        "previsoes_dtc_treino = modelo_dtc.transform(treino)"
      ],
      "metadata": {
        "id": "Vq4E-zFIagZp"
      },
      "execution_count": null,
      "outputs": []
    },
    {
      "cell_type": "code",
      "source": [
        "previsoes_dtc_treino.show()"
      ],
      "metadata": {
        "colab": {
          "base_uri": "https://localhost:8080/"
        },
        "id": "jS5SoPMFa7Z4",
        "outputId": "39b596e4-d493-47ce-f09f-3133d0d41d2e"
      },
      "execution_count": null,
      "outputs": [
        {
          "output_type": "stream",
          "name": "stdout",
          "text": [
            "+--------------------+-----+--------------+--------------------+----------+\n",
            "|            features|label| rawPrediction|         probability|prediction|\n",
            "+--------------------+-----+--------------+--------------------+----------+\n",
            "|(24,[0,1,2,3,4,5,...|    0|[2056.0,334.0]|[0.86025104602510...|       0.0|\n",
            "|(24,[0,1,2,3,4,5,...|    0|[2056.0,334.0]|[0.86025104602510...|       0.0|\n",
            "|(24,[0,1,2,3,4,5,...|    0|    [22.0,3.0]|         [0.88,0.12]|       0.0|\n",
            "|(24,[0,1,2,3,4,5,...|    0|    [22.0,3.0]|         [0.88,0.12]|       0.0|\n",
            "|(24,[0,1,2,3,4,5,...|    0|    [22.0,3.0]|         [0.88,0.12]|       0.0|\n",
            "|(24,[0,1,2,3,4,5,...|    1|[331.0,1951.0]|[0.14504820333041...|       1.0|\n",
            "|(24,[0,1,2,3,4,5,...|    0| [239.0,205.0]|[0.53828828828828...|       0.0|\n",
            "|(24,[0,1,2,3,4,5,...|    1|[331.0,1951.0]|[0.14504820333041...|       1.0|\n",
            "|(24,[0,1,2,3,4,5,...|    0|[331.0,1951.0]|[0.14504820333041...|       1.0|\n",
            "|(24,[0,1,2,3,4,5,...|    0|[331.0,1951.0]|[0.14504820333041...|       1.0|\n",
            "|(24,[0,1,2,3,4,5,...|    0|[331.0,1951.0]|[0.14504820333041...|       1.0|\n",
            "|(24,[0,1,2,3,4,5,...|    0|[2056.0,334.0]|[0.86025104602510...|       0.0|\n",
            "|(24,[0,1,2,3,4,5,...|    0|[331.0,1951.0]|[0.14504820333041...|       1.0|\n",
            "|(24,[0,1,2,3,4,5,...|    0|[2056.0,334.0]|[0.86025104602510...|       0.0|\n",
            "|(24,[0,1,2,3,4,5,...|    0| [239.0,205.0]|[0.53828828828828...|       0.0|\n",
            "|(24,[0,1,2,3,4,5,...|    1| [239.0,205.0]|[0.53828828828828...|       0.0|\n",
            "|(24,[0,1,2,3,4,5,...|    0|[2056.0,334.0]|[0.86025104602510...|       0.0|\n",
            "|(24,[0,1,2,3,4,5,...|    0|  [51.0,141.0]| [0.265625,0.734375]|       1.0|\n",
            "|(24,[0,1,2,3,4,5,...|    0|[2056.0,334.0]|[0.86025104602510...|       0.0|\n",
            "|(24,[0,1,2,3,4,5,...|    0|[2056.0,334.0]|[0.86025104602510...|       0.0|\n",
            "+--------------------+-----+--------------+--------------------+----------+\n",
            "only showing top 20 rows\n",
            "\n"
          ]
        }
      ]
    },
    {
      "cell_type": "markdown",
      "source": [
        "## **2.6 Métricas**"
      ],
      "metadata": {
        "id": "L_YPLdQhblxF"
      }
    },
    {
      "cell_type": "markdown",
      "source": [
        "### **Multiclass classification evaluator**"
      ],
      "metadata": {
        "id": "oWyy3_CqcCOb"
      }
    },
    {
      "cell_type": "code",
      "source": [
        "from pyspark.ml.evaluation import MulticlassClassificationEvaluator"
      ],
      "metadata": {
        "id": "dZ6D15UFbnJz"
      },
      "execution_count": null,
      "outputs": []
    },
    {
      "cell_type": "code",
      "source": [
        "evaluator = MulticlassClassificationEvaluator()"
      ],
      "metadata": {
        "id": "yxkQF1wkcMCH"
      },
      "execution_count": null,
      "outputs": []
    },
    {
      "cell_type": "code",
      "source": [
        "evaluator.evaluate(previsoes_dtc_treino, {evaluator.metricName: 'accuracy'})"
      ],
      "metadata": {
        "colab": {
          "base_uri": "https://localhost:8080/"
        },
        "id": "nhoLTudwcOqR",
        "outputId": "d334ee20-d618-4a2f-e022-357e9c7e4541"
      },
      "execution_count": null,
      "outputs": [
        {
          "output_type": "execute_result",
          "data": {
            "text/plain": [
              "0.7917013599777962"
            ]
          },
          "metadata": {},
          "execution_count": 63
        }
      ]
    },
    {
      "cell_type": "code",
      "source": [
        "print(\"Acurácia: %f\" % evaluator.evaluate(previsoes_dtc_treino, {evaluator.metricName: \"accuracy\"}))\n",
        "print(\"Precisão: %f\" % evaluator.evaluate(previsoes_dtc_treino, {evaluator.metricName: \"precisionByLabel\", evaluator.metricLabel: 1}))\n",
        "print(\"Recall: %f\" % evaluator.evaluate(previsoes_dtc_treino, {evaluator.metricName: \"recallByLabel\", evaluator.metricLabel: 1}))\n",
        "print(\"F1: %f\" % evaluator.evaluate(previsoes_dtc_treino, {evaluator.metricName: \"fMeasureByLabel\", evaluator.metricLabel: 1}))"
      ],
      "metadata": {
        "colab": {
          "base_uri": "https://localhost:8080/"
        },
        "id": "slpjKgZ3cmRt",
        "outputId": "ed0527e7-f6b6-48b7-8a0b-a9c718bc4ceb"
      },
      "execution_count": null,
      "outputs": [
        {
          "output_type": "stream",
          "name": "stdout",
          "text": [
            "Acurácia: 0.791701\n",
            "Precisão: 0.805090\n",
            "Recall: 0.770978\n",
            "F1: 0.787664\n"
          ]
        }
      ]
    },
    {
      "cell_type": "code",
      "source": [
        "previsoes_dtc_teste = modelo_dtc.transform(teste)"
      ],
      "metadata": {
        "id": "bpjznp_Ec4Fx"
      },
      "execution_count": null,
      "outputs": []
    },
    {
      "cell_type": "code",
      "source": [
        "previsoes_dtc_teste.show()"
      ],
      "metadata": {
        "colab": {
          "base_uri": "https://localhost:8080/"
        },
        "id": "VOerBUaPc6kf",
        "outputId": "1262ada7-b117-424b-daf6-b37031ca2392"
      },
      "execution_count": null,
      "outputs": [
        {
          "output_type": "stream",
          "name": "stdout",
          "text": [
            "+--------------------+-----+--------------+--------------------+----------+\n",
            "|            features|label| rawPrediction|         probability|prediction|\n",
            "+--------------------+-----+--------------+--------------------+----------+\n",
            "|(24,[0,1,2,3,4,5,...|    0|[2056.0,334.0]|[0.86025104602510...|       0.0|\n",
            "|(24,[0,1,2,3,4,5,...|    0|  [62.0,128.0]|[0.32631578947368...|       1.0|\n",
            "|(24,[0,1,2,3,4,5,...|    1| [239.0,205.0]|[0.53828828828828...|       0.0|\n",
            "|(24,[0,1,2,3,4,5,...|    1| [239.0,205.0]|[0.53828828828828...|       0.0|\n",
            "|(24,[0,1,2,3,4,5,...|    0| [239.0,205.0]|[0.53828828828828...|       0.0|\n",
            "|(24,[0,1,2,3,4,5,...|    0|  [51.0,141.0]| [0.265625,0.734375]|       1.0|\n",
            "|(24,[0,1,2,3,4,5,...|    0|[331.0,1951.0]|[0.14504820333041...|       1.0|\n",
            "|(24,[0,1,2,3,4,5,...|    0| [239.0,205.0]|[0.53828828828828...|       0.0|\n",
            "|(24,[0,1,2,3,4,5,...|    0|  [63.0,118.0]|[0.34806629834254...|       1.0|\n",
            "|(24,[0,1,2,3,4,5,...|    0|[2056.0,334.0]|[0.86025104602510...|       0.0|\n",
            "|(24,[0,1,2,3,4,5,...|    1|  [63.0,118.0]|[0.34806629834254...|       1.0|\n",
            "|(24,[0,1,2,3,4,5,...|    1|[331.0,1951.0]|[0.14504820333041...|       1.0|\n",
            "|(24,[0,1,2,3,4,5,...|    0|[2056.0,334.0]|[0.86025104602510...|       0.0|\n",
            "|(24,[0,1,2,3,4,8,...|    0| [445.0,181.0]|[0.71086261980830...|       0.0|\n",
            "|(24,[0,1,2,3,4,8,...|    0|[2056.0,334.0]|[0.86025104602510...|       0.0|\n",
            "|(24,[0,1,2,3,4,8,...|    0|[2056.0,334.0]|[0.86025104602510...|       0.0|\n",
            "|(24,[0,1,2,3,5,6,...|    0|[2056.0,334.0]|[0.86025104602510...|       0.0|\n",
            "|(24,[0,1,2,3,5,6,...|    0| [239.0,205.0]|[0.53828828828828...|       0.0|\n",
            "|(24,[0,1,2,3,5,6,...|    0|[2056.0,334.0]|[0.86025104602510...|       0.0|\n",
            "|(24,[0,1,2,3,5,6,...|    0|[2056.0,334.0]|[0.86025104602510...|       0.0|\n",
            "+--------------------+-----+--------------+--------------------+----------+\n",
            "only showing top 20 rows\n",
            "\n"
          ]
        }
      ]
    },
    {
      "cell_type": "code",
      "source": [
        "evaluator.evaluate(previsoes_dtc_teste, {evaluator.metricName: 'accuracy'})"
      ],
      "metadata": {
        "colab": {
          "base_uri": "https://localhost:8080/"
        },
        "id": "CQ53TMBqdAHC",
        "outputId": "5054ec63-418a-40af-ddcb-07e65bb32754"
      },
      "execution_count": null,
      "outputs": [
        {
          "output_type": "execute_result",
          "data": {
            "text/plain": [
              "0.7714831317632082"
            ]
          },
          "metadata": {},
          "execution_count": 67
        }
      ]
    },
    {
      "cell_type": "code",
      "source": [
        "print('Decision Tree Classifier')\n",
        "print(\"=\"*40)\n",
        "print(\"Dados de Treino\")\n",
        "print(\"=\"*40)\n",
        "print(\"Matriz de Confusão\")\n",
        "print(\"-\"*40)\n",
        "calcula_mostra_matriz_confusao(previsoes_dtc_treino, normalize=False)\n",
        "print(\"-\"*40)\n",
        "print(\"Métricas\")\n",
        "print(\"-\"*40)\n",
        "print(\"Acurácia: %f\" % evaluator.evaluate(previsoes_dtc_treino, {evaluator.metricName: \"accuracy\"}))\n",
        "print(\"Precisão: %f\" % evaluator.evaluate(previsoes_dtc_treino, {evaluator.metricName: \"precisionByLabel\", evaluator.metricLabel: 1}))\n",
        "print(\"Recall: %f\" % evaluator.evaluate(previsoes_dtc_treino, {evaluator.metricName: \"recallByLabel\", evaluator.metricLabel: 1}))\n",
        "print(\"F1: %f\" % evaluator.evaluate(previsoes_dtc_treino, {evaluator.metricName: \"fMeasureByLabel\", evaluator.metricLabel: 1}))\n",
        "print(\"\")\n",
        "print(\"=\"*40)\n",
        "print(\"Dados de Teste\")\n",
        "print(\"=\"*40)\n",
        "print(\"Matriz de Confusão\")\n",
        "print(\"-\"*40)\n",
        "calcula_mostra_matriz_confusao(previsoes_dtc_teste, normalize=False)\n",
        "print(\"-\"*40)\n",
        "print(\"Métricas\")\n",
        "print(\"-\"*40)\n",
        "print(\"Acurácia: %f\" % evaluator.evaluate(previsoes_dtc_teste, {evaluator.metricName: \"accuracy\"}))\n",
        "print(\"Precisão: %f\" % evaluator.evaluate(previsoes_dtc_teste, {evaluator.metricName: \"precisionByLabel\", evaluator.metricLabel: 1}))\n",
        "print(\"Recall: %f\" % evaluator.evaluate(previsoes_dtc_teste, {evaluator.metricName: \"recallByLabel\", evaluator.metricLabel: 1}))\n",
        "print(\"F1: %f\" % evaluator.evaluate(previsoes_dtc_teste, {evaluator.metricName: \"fMeasureByLabel\", evaluator.metricLabel: 1}))"
      ],
      "metadata": {
        "colab": {
          "base_uri": "https://localhost:8080/"
        },
        "id": "5aVKhL8YdA2d",
        "outputId": "be1226d4-d70a-48ed-be51-de0d2fb47852"
      },
      "execution_count": null,
      "outputs": [
        {
          "output_type": "stream",
          "name": "stdout",
          "text": [
            "Decision Tree Classifier\n",
            "========================================\n",
            "Dados de Treino\n",
            "========================================\n",
            "Matriz de Confusão\n",
            "----------------------------------------\n",
            "                     Previsto\n",
            "                Churn       Não-Churn\n",
            "     Churn        2784         827\n",
            "Real\n",
            "     Não-Churn    674         2921\n",
            "----------------------------------------\n",
            "Métricas\n",
            "----------------------------------------\n",
            "Acurácia: 0.791701\n",
            "Precisão: 0.805090\n",
            "Recall: 0.770978\n",
            "F1: 0.787664\n",
            "\n",
            "========================================\n",
            "Dados de Teste\n",
            "========================================\n",
            "Matriz de Confusão\n",
            "----------------------------------------\n",
            "                     Previsto\n",
            "                Churn       Não-Churn\n",
            "     Churn        1181         382\n",
            "Real\n",
            "     Não-Churn    336         1243\n",
            "----------------------------------------\n",
            "Métricas\n",
            "----------------------------------------\n",
            "Acurácia: 0.771483\n",
            "Precisão: 0.778510\n",
            "Recall: 0.755598\n",
            "F1: 0.766883\n"
          ]
        }
      ]
    },
    {
      "cell_type": "markdown",
      "source": [
        "## **2.7 Random Forest Classifier**"
      ],
      "metadata": {
        "id": "jWqZCNykexb1"
      }
    },
    {
      "cell_type": "markdown",
      "source": [
        "<center><img src=\"https://cdn1.gnarususercontent.com.br/1/1319051/6cba5a55-2be9-4134-8dad-2504c3d57e33.jpg\"/></center>\n",
        "\n",
        "Depois que cada árvore decidiu uma classe para o problema, realizamos a votação. Nesse exemplo, temos duas árvores que tomaram a decisão de que o cliente vai cancelar o serviço e uma que decidiu que não vai cancelar, identificado na imagem respectivamente pelos retângulos verde e vermelho"
      ],
      "metadata": {
        "id": "Daye9_AlfCKm"
      }
    },
    {
      "cell_type": "code",
      "source": [
        "from pyspark.ml.classification import RandomForestClassifier"
      ],
      "metadata": {
        "id": "aT0Du7y2e1DJ"
      },
      "execution_count": null,
      "outputs": []
    },
    {
      "cell_type": "code",
      "source": [
        "rfc = RandomForestClassifier(seed=SEED)"
      ],
      "metadata": {
        "id": "ktp1ouhiflJW"
      },
      "execution_count": null,
      "outputs": []
    },
    {
      "cell_type": "code",
      "source": [
        "modelo_rfc = rfc.fit(treino)"
      ],
      "metadata": {
        "id": "wGo9kYbCfm0C"
      },
      "execution_count": null,
      "outputs": []
    },
    {
      "cell_type": "code",
      "source": [
        "previsoes_rfc_treino = modelo_rfc.transform(treino)"
      ],
      "metadata": {
        "id": "Sh8z4Lnpfoe9"
      },
      "execution_count": null,
      "outputs": []
    },
    {
      "cell_type": "code",
      "source": [
        "previsoes_rfc_treino.show()"
      ],
      "metadata": {
        "colab": {
          "base_uri": "https://localhost:8080/"
        },
        "id": "3ofsbtjJfst2",
        "outputId": "0f937776-7c5f-4117-c326-edd910366774"
      },
      "execution_count": null,
      "outputs": [
        {
          "output_type": "stream",
          "name": "stdout",
          "text": [
            "+--------------------+-----+--------------------+--------------------+----------+\n",
            "|            features|label|       rawPrediction|         probability|prediction|\n",
            "+--------------------+-----+--------------------+--------------------+----------+\n",
            "|(24,[0,1,2,3,4,5,...|    0|[15.0052773466704...|[0.75026386733352...|       0.0|\n",
            "|(24,[0,1,2,3,4,5,...|    0|[16.9295040273249...|[0.84647520136624...|       0.0|\n",
            "|(24,[0,1,2,3,4,5,...|    0|[9.13052909106814...|[0.45652645455340...|       1.0|\n",
            "|(24,[0,1,2,3,4,5,...|    0|[9.13052909106814...|[0.45652645455340...|       1.0|\n",
            "|(24,[0,1,2,3,4,5,...|    0|[8.59288938528764...|[0.42964446926438...|       1.0|\n",
            "|(24,[0,1,2,3,4,5,...|    1|[5.59647122885698...|[0.27982356144284...|       1.0|\n",
            "|(24,[0,1,2,3,4,5,...|    0|[9.33276328267787...|[0.46663816413389...|       1.0|\n",
            "|(24,[0,1,2,3,4,5,...|    1|[5.21616013157118...|[0.26080800657855...|       1.0|\n",
            "|(24,[0,1,2,3,4,5,...|    0|[5.45640255581361...|[0.27282012779068...|       1.0|\n",
            "|(24,[0,1,2,3,4,5,...|    0|[4.60442649894724...|[0.23022132494736...|       1.0|\n",
            "|(24,[0,1,2,3,4,5,...|    0|[5.67535692640751...|[0.28376784632037...|       1.0|\n",
            "|(24,[0,1,2,3,4,5,...|    0|[12.0200554644482...|[0.60100277322241...|       0.0|\n",
            "|(24,[0,1,2,3,4,5,...|    0|[4.78964359060310...|[0.23948217953015...|       1.0|\n",
            "|(24,[0,1,2,3,4,5,...|    0|[16.0034864403362...|[0.80017432201681...|       0.0|\n",
            "|(24,[0,1,2,3,4,5,...|    0|[9.33276328267787...|[0.46663816413389...|       1.0|\n",
            "|(24,[0,1,2,3,4,5,...|    1|[7.72923092350890...|[0.38646154617544...|       1.0|\n",
            "|(24,[0,1,2,3,4,5,...|    0|[15.9609332488468...|[0.79804666244234...|       0.0|\n",
            "|(24,[0,1,2,3,4,5,...|    0|[7.08160776437640...|[0.35408038821882...|       1.0|\n",
            "|(24,[0,1,2,3,4,5,...|    0|[18.2497256374866...|[0.91248628187433...|       0.0|\n",
            "|(24,[0,1,2,3,4,5,...|    0|[14.4759069267546...|[0.72379534633773...|       0.0|\n",
            "+--------------------+-----+--------------------+--------------------+----------+\n",
            "only showing top 20 rows\n",
            "\n"
          ]
        }
      ]
    },
    {
      "cell_type": "markdown",
      "source": [
        "## **2.8 Métricas**"
      ],
      "metadata": {
        "id": "tpTKZkADgfYU"
      }
    },
    {
      "cell_type": "code",
      "source": [
        "previsoes_rfc_teste = modelo_rfc.transform(teste)"
      ],
      "metadata": {
        "id": "oxL2ThyPghC0"
      },
      "execution_count": null,
      "outputs": []
    },
    {
      "cell_type": "code",
      "source": [
        "previsoes_rfc_teste.show()"
      ],
      "metadata": {
        "colab": {
          "base_uri": "https://localhost:8080/"
        },
        "id": "reHy_F82gi6G",
        "outputId": "0ccf9dc1-60ee-4dd5-ec9b-c847648d4773"
      },
      "execution_count": null,
      "outputs": [
        {
          "output_type": "stream",
          "name": "stdout",
          "text": [
            "+--------------------+-----+--------------------+--------------------+----------+\n",
            "|            features|label|       rawPrediction|         probability|prediction|\n",
            "+--------------------+-----+--------------------+--------------------+----------+\n",
            "|(24,[0,1,2,3,4,5,...|    0|[16.7433871675615...|[0.83716935837807...|       0.0|\n",
            "|(24,[0,1,2,3,4,5,...|    0|[7.27313214599648...|[0.36365660729982...|       1.0|\n",
            "|(24,[0,1,2,3,4,5,...|    1|[7.46885072161585...|[0.37344253608079...|       1.0|\n",
            "|(24,[0,1,2,3,4,5,...|    1|[9.33276328267787...|[0.46663816413389...|       1.0|\n",
            "|(24,[0,1,2,3,4,5,...|    0|[7.79829004739264...|[0.38991450236963...|       1.0|\n",
            "|(24,[0,1,2,3,4,5,...|    0|[7.13263407834549...|[0.35663170391727...|       1.0|\n",
            "|(24,[0,1,2,3,4,5,...|    0|[4.45872635511159...|[0.22293631775557...|       1.0|\n",
            "|(24,[0,1,2,3,4,5,...|    0|[7.84691519125130...|[0.39234575956256...|       1.0|\n",
            "|(24,[0,1,2,3,4,5,...|    0|[9.94796150783366...|[0.49739807539168...|       1.0|\n",
            "|(24,[0,1,2,3,4,5,...|    0|[13.9419392354793...|[0.69709696177396...|       0.0|\n",
            "|(24,[0,1,2,3,4,5,...|    1|[5.91309232317621...|[0.29565461615881...|       1.0|\n",
            "|(24,[0,1,2,3,4,5,...|    1|[4.00056870239560...|[0.20002843511978...|       1.0|\n",
            "|(24,[0,1,2,3,4,5,...|    0|[18.3120509476018...|[0.91560254738009...|       0.0|\n",
            "|(24,[0,1,2,3,4,8,...|    0|[11.9244461164393...|[0.59622230582196...|       0.0|\n",
            "|(24,[0,1,2,3,4,8,...|    0|[15.3485289130138...|[0.76742644565069...|       0.0|\n",
            "|(24,[0,1,2,3,4,8,...|    0|[16.5284444417352...|[0.82642222208676...|       0.0|\n",
            "|(24,[0,1,2,3,5,6,...|    0|[18.0005759997679...|[0.90002879998839...|       0.0|\n",
            "|(24,[0,1,2,3,5,6,...|    0|[12.7577462101532...|[0.63788731050766...|       0.0|\n",
            "|(24,[0,1,2,3,5,6,...|    0|[17.3802234084668...|[0.86901117042334...|       0.0|\n",
            "|(24,[0,1,2,3,5,6,...|    0|[17.2590921858649...|[0.86295460929324...|       0.0|\n",
            "+--------------------+-----+--------------------+--------------------+----------+\n",
            "only showing top 20 rows\n",
            "\n"
          ]
        }
      ]
    },
    {
      "cell_type": "code",
      "source": [
        "print('Random Forest Classifier')\n",
        "print(\"=\"*40)\n",
        "print(\"Dados de Treino\")\n",
        "print(\"=\"*40)\n",
        "print(\"Matriz de Confusão\")\n",
        "print(\"-\"*40)\n",
        "calcula_mostra_matriz_confusao(previsoes_rfc_treino, normalize=False)\n",
        "print(\"-\"*40)\n",
        "print(\"Métricas\")\n",
        "print(\"-\"*40)\n",
        "print(\"Acurácia: %f\" % evaluator.evaluate(previsoes_rfc_treino, {evaluator.metricName: \"accuracy\"}))\n",
        "print(\"Precisão: %f\" % evaluator.evaluate(previsoes_rfc_treino, {evaluator.metricName: \"precisionByLabel\", evaluator.metricLabel: 1}))\n",
        "print(\"Recall: %f\" % evaluator.evaluate(previsoes_rfc_treino, {evaluator.metricName: \"recallByLabel\", evaluator.metricLabel: 1}))\n",
        "print(\"F1: %f\" % evaluator.evaluate(previsoes_rfc_treino, {evaluator.metricName: \"fMeasureByLabel\", evaluator.metricLabel: 1}))\n",
        "print(\"\")\n",
        "print(\"=\"*40)\n",
        "print(\"Dados de Teste\")\n",
        "print(\"=\"*40)\n",
        "print(\"Matriz de Confusão\")\n",
        "print(\"-\"*40)\n",
        "calcula_mostra_matriz_confusao(previsoes_rfc_teste, normalize=False)\n",
        "print(\"-\"*40)\n",
        "print(\"Métricas\")\n",
        "print(\"-\"*40)\n",
        "print(\"Acurácia: %f\" % evaluator.evaluate(previsoes_rfc_teste, {evaluator.metricName: \"accuracy\"}))\n",
        "print(\"Precisão: %f\" % evaluator.evaluate(previsoes_rfc_teste, {evaluator.metricName: \"precisionByLabel\", evaluator.metricLabel: 1}))\n",
        "print(\"Recall: %f\" % evaluator.evaluate(previsoes_rfc_teste, {evaluator.metricName: \"recallByLabel\", evaluator.metricLabel: 1}))\n",
        "print(\"F1: %f\" % evaluator.evaluate(previsoes_rfc_teste, {evaluator.metricName: \"fMeasureByLabel\", evaluator.metricLabel: 1}))"
      ],
      "metadata": {
        "colab": {
          "base_uri": "https://localhost:8080/"
        },
        "id": "DMpn4HkuglXA",
        "outputId": "d200f2bb-1b08-48b7-cc6b-3d945102933d"
      },
      "execution_count": null,
      "outputs": [
        {
          "output_type": "stream",
          "name": "stdout",
          "text": [
            "Random Forest Classifier\n",
            "========================================\n",
            "Dados de Treino\n",
            "========================================\n",
            "Matriz de Confusão\n",
            "----------------------------------------\n",
            "                     Previsto\n",
            "                Churn       Não-Churn\n",
            "     Churn        2950         661\n",
            "Real\n",
            "     Não-Churn    884         2711\n",
            "----------------------------------------\n",
            "Métricas\n",
            "----------------------------------------\n",
            "Acurácia: 0.785595\n",
            "Precisão: 0.769431\n",
            "Recall: 0.816948\n",
            "F1: 0.792478\n",
            "\n",
            "========================================\n",
            "Dados de Teste\n",
            "========================================\n",
            "Matriz de Confusão\n",
            "----------------------------------------\n",
            "                     Previsto\n",
            "                Churn       Não-Churn\n",
            "     Churn        1257         306\n",
            "Real\n",
            "     Não-Churn    416         1163\n",
            "----------------------------------------\n",
            "Métricas\n",
            "----------------------------------------\n",
            "Acurácia: 0.770210\n",
            "Precisão: 0.751345\n",
            "Recall: 0.804223\n",
            "F1: 0.776885\n"
          ]
        }
      ]
    },
    {
      "cell_type": "markdown",
      "source": [
        "## **Cross Validaton - Otimização dos hiperparâmetros**"
      ],
      "metadata": {
        "id": "VgWA0nc7h9Vq"
      }
    },
    {
      "cell_type": "code",
      "source": [
        "from pyspark.ml.tuning import CrossValidator, ParamGridBuilder"
      ],
      "metadata": {
        "id": "1Rx4QGwfi98z"
      },
      "execution_count": null,
      "outputs": []
    },
    {
      "cell_type": "code",
      "source": [
        "grid = ParamGridBuilder()\\\n",
        "        .addGrid(dtc.maxDepth, [2, 5, 10])\\\n",
        "        .addGrid(dtc.maxBins, [10, 32, 45])\\\n",
        "        .build()"
      ],
      "metadata": {
        "id": "aXFTP-j8jFxM"
      },
      "execution_count": null,
      "outputs": []
    },
    {
      "cell_type": "code",
      "source": [
        "evaluator = MulticlassClassificationEvaluator()"
      ],
      "metadata": {
        "id": "3cmJkTgkjzY2"
      },
      "execution_count": null,
      "outputs": []
    },
    {
      "cell_type": "code",
      "source": [
        "dtc_cv = CrossValidator(\n",
        "    estimator=dtc,\n",
        "    estimatorParamMaps=grid,\n",
        "    evaluator=evaluator,\n",
        "    numFolds=3,\n",
        "    seed=SEED\n",
        ")"
      ],
      "metadata": {
        "id": "C3X_LeoAj2uh"
      },
      "execution_count": null,
      "outputs": []
    },
    {
      "cell_type": "code",
      "source": [
        "modelo_dtc_cv = dtc_cv.fit(treino)"
      ],
      "metadata": {
        "id": "f9t3DLF6kVce"
      },
      "execution_count": null,
      "outputs": []
    },
    {
      "cell_type": "code",
      "source": [
        "previsoes_dtc_cv_teste = modelo_dtc_cv.transform(teste)"
      ],
      "metadata": {
        "id": "iKnez8d_kaTL"
      },
      "execution_count": null,
      "outputs": []
    },
    {
      "cell_type": "code",
      "source": [
        "print('Decision Tree Classifier - Tuning')\n",
        "print(\"=\"*40)\n",
        "print(\"Dados de Teste\")\n",
        "print(\"=\"*40)\n",
        "print(\"Matriz de Confusão\")\n",
        "print(\"-\"*40)\n",
        "calcula_mostra_matriz_confusao(previsoes_dtc_cv_teste, normalize=False)\n",
        "print(\"-\"*40)\n",
        "print(\"Métricas\")\n",
        "print(\"-\"*40)\n",
        "print(\"Acurácia: %f\" % evaluator.evaluate(previsoes_dtc_cv_teste, {evaluator.metricName: \"accuracy\"}))\n",
        "print(\"Precisão: %f\" % evaluator.evaluate(previsoes_dtc_cv_teste, {evaluator.metricName: \"precisionByLabel\", evaluator.metricLabel: 1}))\n",
        "print(\"Recall: %f\" % evaluator.evaluate(previsoes_dtc_cv_teste, {evaluator.metricName: \"recallByLabel\", evaluator.metricLabel: 1}))\n",
        "print(\"F1: %f\" % evaluator.evaluate(previsoes_dtc_cv_teste, {evaluator.metricName: \"fMeasureByLabel\", evaluator.metricLabel: 1}))"
      ],
      "metadata": {
        "colab": {
          "base_uri": "https://localhost:8080/"
        },
        "id": "_lO8U7vOkcKF",
        "outputId": "8186653a-f744-49c7-a0af-74a1aaff9a84"
      },
      "execution_count": null,
      "outputs": [
        {
          "output_type": "stream",
          "name": "stdout",
          "text": [
            "Decision Tree Classifier - Tuning\n",
            "========================================\n",
            "Dados de Teste\n",
            "========================================\n",
            "Matriz de Confusão\n",
            "----------------------------------------\n",
            "                     Previsto\n",
            "                Churn       Não-Churn\n",
            "     Churn        1327         236\n",
            "Real\n",
            "     Não-Churn    423         1156\n",
            "----------------------------------------\n",
            "Métricas\n",
            "----------------------------------------\n",
            "Acurácia: 0.790261\n",
            "Precisão: 0.758286\n",
            "Recall: 0.849008\n",
            "F1: 0.801087\n"
          ]
        }
      ]
    },
    {
      "cell_type": "code",
      "source": [
        "rfc = RandomForestClassifier(seed=SEED)"
      ],
      "metadata": {
        "id": "5oFjMW_hmoHC"
      },
      "execution_count": null,
      "outputs": []
    },
    {
      "cell_type": "code",
      "source": [
        "grid = ParamGridBuilder()\\\n",
        "        .addGrid(rfc.maxDepth, [2, 5, 10])\\\n",
        "        .addGrid(rfc.maxBins, [10, 32, 45])\\\n",
        "        .addGrid(rfc.numTrees, [10, 20, 50])\\\n",
        "        .build()"
      ],
      "metadata": {
        "id": "2EAT-XGNmqW-"
      },
      "execution_count": null,
      "outputs": []
    },
    {
      "cell_type": "code",
      "source": [
        "evaluator = MulticlassClassificationEvaluator()"
      ],
      "metadata": {
        "id": "SpzUGuMomsQO"
      },
      "execution_count": null,
      "outputs": []
    },
    {
      "cell_type": "code",
      "source": [
        "rfc_cv = CrossValidator(\n",
        "    estimator=rfc,\n",
        "    estimatorParamMaps=grid,\n",
        "    evaluator=evaluator,\n",
        "    numFolds=3,\n",
        "    seed=SEED\n",
        ")"
      ],
      "metadata": {
        "id": "jTjcPG54mzMT"
      },
      "execution_count": null,
      "outputs": []
    },
    {
      "cell_type": "code",
      "source": [
        "modelo_rfc_cv = rfc_cv.fit(treino)"
      ],
      "metadata": {
        "id": "pm35VjwHm1Kl"
      },
      "execution_count": null,
      "outputs": []
    },
    {
      "cell_type": "code",
      "source": [
        "previsoes_rfc_cv_teste = modelo_rfc_cv.transform(teste)"
      ],
      "metadata": {
        "id": "7Sjm0ho0m41q"
      },
      "execution_count": null,
      "outputs": []
    },
    {
      "cell_type": "code",
      "source": [
        "print('Random Forest Classifier - Tuning')\n",
        "print(\"=\"*40)\n",
        "print(\"Dados de Teste\")\n",
        "print(\"=\"*40)\n",
        "print(\"Matriz de Confusão\")\n",
        "print(\"-\"*40)\n",
        "calcula_mostra_matriz_confusao(previsoes_rfc_cv_teste, normalize=False)\n",
        "print(\"-\"*40)\n",
        "print(\"Métricas\")\n",
        "print(\"-\"*40)\n",
        "print(\"Acurácia: %f\" % evaluator.evaluate(previsoes_rfc_cv_teste, {evaluator.metricName: \"accuracy\"}))\n",
        "print(\"Precisão: %f\" % evaluator.evaluate(previsoes_rfc_cv_teste, {evaluator.metricName: \"precisionByLabel\", evaluator.metricLabel: 1}))\n",
        "print(\"Recall: %f\" % evaluator.evaluate(previsoes_rfc_cv_teste, {evaluator.metricName: \"recallByLabel\", evaluator.metricLabel: 1}))\n",
        "print(\"F1: %f\" % evaluator.evaluate(previsoes_rfc_cv_teste, {evaluator.metricName: \"fMeasureByLabel\", evaluator.metricLabel: 1}))"
      ],
      "metadata": {
        "colab": {
          "base_uri": "https://localhost:8080/"
        },
        "id": "YbqXz5aVm6Y9",
        "outputId": "64deb5d3-82e4-4e7b-ad03-dd1ec1136858"
      },
      "execution_count": null,
      "outputs": [
        {
          "output_type": "stream",
          "name": "stdout",
          "text": [
            "Random Forest Classifier - Tuning\n",
            "========================================\n",
            "Dados de Teste\n",
            "========================================\n",
            "Matriz de Confusão\n",
            "----------------------------------------\n",
            "                     Previsto\n",
            "                Churn       Não-Churn\n",
            "     Churn        1322         241\n",
            "Real\n",
            "     Não-Churn    347         1232\n",
            "----------------------------------------\n",
            "Métricas\n",
            "----------------------------------------\n",
            "Acurácia: 0.812858\n",
            "Precisão: 0.792091\n",
            "Recall: 0.845809\n",
            "F1: 0.818069\n"
          ]
        }
      ]
    },
    {
      "cell_type": "markdown",
      "source": [
        "##Modelo final##"
      ],
      "metadata": {
        "id": "757rbLg5pLtk"
      }
    },
    {
      "cell_type": "code",
      "source": [
        "melhor_modelo_rfc_cv = modelo_rfc_cv.bestModel"
      ],
      "metadata": {
        "id": "LNRupf6jpOJA"
      },
      "execution_count": null,
      "outputs": []
    },
    {
      "cell_type": "code",
      "source": [
        "print(melhor_modelo_rfc_cv.getMaxDepth())\n",
        "print(melhor_modelo_rfc_cv.getMaxBins())\n",
        "print(melhor_modelo_rfc_cv.getNumTrees)"
      ],
      "metadata": {
        "colab": {
          "base_uri": "https://localhost:8080/"
        },
        "id": "ma6_h_WVpRpS",
        "outputId": "05059cb6-6c48-4ef7-ef52-daf1316e799e"
      },
      "execution_count": null,
      "outputs": [
        {
          "output_type": "stream",
          "name": "stdout",
          "text": [
            "10\n",
            "45\n",
            "20\n"
          ]
        }
      ]
    },
    {
      "cell_type": "code",
      "source": [
        "rfc_tunning = RandomForestClassifier(maxDepth=10, maxBins=45, numTrees=20, seed=SEED)"
      ],
      "metadata": {
        "id": "hiBJPrSzpVKO"
      },
      "execution_count": null,
      "outputs": []
    },
    {
      "cell_type": "code",
      "source": [
        "modelo_rfc_tunning = rfc_tunning.fit(dataset_prep)"
      ],
      "metadata": {
        "id": "kRVG-Ot5pYp-"
      },
      "execution_count": null,
      "outputs": []
    },
    {
      "cell_type": "code",
      "source": [
        "novo_cliente = [{\n",
        "    'Mais65anos': 0,\n",
        "    'MesesDeContrato': 1,\n",
        "    'MesesCobrados': 45.30540797610398,\n",
        "    'Conjuge': 0,\n",
        "    'Dependentes': 0,\n",
        "    'TelefoneFixo': 0,\n",
        "    'MaisDeUmaLinhaTelefonica': 0,\n",
        "    'SegurancaOnline': 0,\n",
        "    'BackupOnline': 0,\n",
        "    'SeguroDispositivo': 0,\n",
        "    'SuporteTecnico': 0,\n",
        "    'TVaCabo': 1,\n",
        "    'StreamingFilmes': 1,\n",
        "    'ContaCorreio': 1,\n",
        "    'Internet_DSL': 1,\n",
        "    'Internet_FibraOptica': 0,\n",
        "    'Internet_Nao': 0,\n",
        "    'TipoContrato_Mensalmente': 1,\n",
        "    'TipoContrato_UmAno': 0,\n",
        "    'TipoContrato_DoisAnos': 0,\n",
        "    'MetodoPagamento_DebitoEmConta': 0,\n",
        "    'MetodoPagamento_CartaoCredito': 0,\n",
        "    'MetodoPagamento_BoletoEletronico': 1,\n",
        "    'MetodoPagamento_Boleto': 0\n",
        "}]"
      ],
      "metadata": {
        "id": "2AxM45_kpbwM"
      },
      "execution_count": null,
      "outputs": []
    },
    {
      "cell_type": "code",
      "source": [
        "novo_cliente = spark.createDataFrame(novo_cliente)\n",
        "novo_cliente.show()"
      ],
      "metadata": {
        "colab": {
          "base_uri": "https://localhost:8080/"
        },
        "id": "E8pObWwSpjp-",
        "outputId": "21042c5e-4211-4661-da47-468bf45b8d5e"
      },
      "execution_count": null,
      "outputs": [
        {
          "output_type": "stream",
          "name": "stdout",
          "text": [
            "+------------+-------+------------+-----------+------------+--------------------+------------+----------+------------------------+-----------------+---------------+----------------------+--------------------------------+-----------------------------+-----------------------------+---------------+-----------------+---------------+--------------+-------+------------+---------------------+------------------------+------------------+\n",
            "|BackupOnline|Conjuge|ContaCorreio|Dependentes|Internet_DSL|Internet_FibraOptica|Internet_Nao|Mais65anos|MaisDeUmaLinhaTelefonica|    MesesCobrados|MesesDeContrato|MetodoPagamento_Boleto|MetodoPagamento_BoletoEletronico|MetodoPagamento_CartaoCredito|MetodoPagamento_DebitoEmConta|SegurancaOnline|SeguroDispositivo|StreamingFilmes|SuporteTecnico|TVaCabo|TelefoneFixo|TipoContrato_DoisAnos|TipoContrato_Mensalmente|TipoContrato_UmAno|\n",
            "+------------+-------+------------+-----------+------------+--------------------+------------+----------+------------------------+-----------------+---------------+----------------------+--------------------------------+-----------------------------+-----------------------------+---------------+-----------------+---------------+--------------+-------+------------+---------------------+------------------------+------------------+\n",
            "|           0|      0|           1|          0|           1|                   0|           0|         0|                       0|45.30540797610398|              1|                     0|                               1|                            0|                            0|              0|                0|              1|             0|      1|           0|                    0|                       1|                 0|\n",
            "+------------+-------+------------+-----------+------------+--------------------+------------+----------+------------------------+-----------------+---------------+----------------------+--------------------------------+-----------------------------+-----------------------------+---------------+-----------------+---------------+--------------+-------+------------+---------------------+------------------------+------------------+\n",
            "\n"
          ]
        }
      ]
    },
    {
      "cell_type": "code",
      "source": [
        "assembler = VectorAssembler(inputCols = X, outputCol = 'features')"
      ],
      "metadata": {
        "id": "7DQ3_lcwprOd"
      },
      "execution_count": null,
      "outputs": []
    },
    {
      "cell_type": "code",
      "source": [
        "novo_cliente_prep = assembler.transform(novo_cliente).select('features')"
      ],
      "metadata": {
        "id": "PN76NgHQptUX"
      },
      "execution_count": null,
      "outputs": []
    },
    {
      "cell_type": "code",
      "source": [
        "novo_cliente_prep.show(truncate=False)"
      ],
      "metadata": {
        "colab": {
          "base_uri": "https://localhost:8080/"
        },
        "id": "nRrpbz5dp3GR",
        "outputId": "6a2fe69a-a1ad-4aad-9a69-566687a2cf07"
      },
      "execution_count": null,
      "outputs": [
        {
          "output_type": "stream",
          "name": "stdout",
          "text": [
            "+----------------------------------------------------------------------------+\n",
            "|features                                                                    |\n",
            "+----------------------------------------------------------------------------+\n",
            "|(24,[1,2,11,12,13,14,17,22],[1.0,45.30540797610398,1.0,1.0,1.0,1.0,1.0,1.0])|\n",
            "+----------------------------------------------------------------------------+\n",
            "\n"
          ]
        }
      ]
    },
    {
      "cell_type": "code",
      "source": [
        "modelo_rfc_tunning.transform(novo_cliente_prep).show()"
      ],
      "metadata": {
        "colab": {
          "base_uri": "https://localhost:8080/"
        },
        "id": "dhXRea4Fp5zt",
        "outputId": "2a7736c3-2a60-41d2-9642-d40146562b87"
      },
      "execution_count": null,
      "outputs": [
        {
          "output_type": "stream",
          "name": "stdout",
          "text": [
            "+--------------------+--------------------+--------------------+----------+\n",
            "|            features|       rawPrediction|         probability|prediction|\n",
            "+--------------------+--------------------+--------------------+----------+\n",
            "|(24,[1,2,11,12,13...|[2.16984156904747...|[0.10849207845237...|       1.0|\n",
            "+--------------------+--------------------+--------------------+----------+\n",
            "\n"
          ]
        }
      ]
    }
  ],
  "metadata": {
    "colab": {
      "provenance": [],
      "include_colab_link": true
    },
    "kernelspec": {
      "display_name": "Python 3",
      "language": "python",
      "name": "python3"
    },
    "language_info": {
      "codemirror_mode": {
        "name": "ipython",
        "version": 3
      },
      "file_extension": ".py",
      "mimetype": "text/x-python",
      "name": "python",
      "nbconvert_exporter": "python",
      "pygments_lexer": "ipython3",
      "version": "3.8.8"
    }
  },
  "nbformat": 4,
  "nbformat_minor": 0
}